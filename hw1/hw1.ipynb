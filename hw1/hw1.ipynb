{
 "cells": [
  {
   "cell_type": "markdown",
   "metadata": {},
   "source": [
    "## Домашнее задание 1"
   ]
  },
  {
   "cell_type": "markdown",
   "metadata": {},
   "source": [
    "Я взяла корпус Marujo2012 (https://github.com/SDuari/Keyword-Extraction-Datasets/blob/master/Marujo2012.zip). Это датасет новостей на разные темы, размеченный по ключевым словам. На каждый текст в среднем приходится по 69 униграмм и 48 биграмм ключевых слов, все они присутствуют в исходных текстах. Я взяла именно этот датасет, потому что в нём содержатся тексты на разные темы, что должно упростить задачу, и эти тексты не слишком длинные и не слишком короткие. Ключевые слова содержатся списком в отдельных файлах с соответствующими названиями. В корпус я вручную скопировала по одному файлу новости и одному файлу с ключевыми словами для каждой тематической категории (Кроме политики и бизнеса. Надо было уменишь объём корпуса, и я выкинула самые неинтересные мне темы)"
   ]
  },
  {
   "cell_type": "code",
   "execution_count": 266,
   "metadata": {},
   "outputs": [
    {
     "name": "stderr",
     "output_type": "stream",
     "text": [
      "[nltk_data] Downloading package stopwords to\n",
      "[nltk_data]     C:\\Users\\User\\AppData\\Roaming\\nltk_data...\n",
      "[nltk_data]   Package stopwords is already up-to-date!\n"
     ]
    }
   ],
   "source": [
    "import os\n",
    "import pandas as pd\n",
    "\n",
    "import RAKE\n",
    "import nltk\n",
    "import numpy as np\n",
    "\n",
    "from pprint import pprint\n",
    "from summa import keywords\n",
    "from statistics import mean\n",
    "from nltk import word_tokenize\n",
    "from nltk.corpus import stopwords\n",
    "from sklearn.feature_extraction.text import TfidfVectorizer\n",
    "\n",
    "nltk.download('stopwords')\n",
    "stop = stopwords.words('english')"
   ]
  },
  {
   "cell_type": "markdown",
   "metadata": {},
   "source": [
    "#### Составить корпус"
   ]
  },
  {
   "cell_type": "code",
   "execution_count": 60,
   "metadata": {},
   "outputs": [
    {
     "name": "stdout",
     "output_type": "stream",
     "text": [
      "Всего текстов: 7\n",
      "Всего токенов: 3805\n"
     ]
    }
   ],
   "source": [
    "texts, given_keywords = [], []\n",
    "count = 0\n",
    "for filename in os.listdir('dataset'):\n",
    "    with open(f'dataset/{filename}', encoding='UTF-8') as f:\n",
    "        data = f.read()\n",
    "    if filename.endswith('txt'):\n",
    "        texts.append(data)\n",
    "        count += len(data.split(' '))\n",
    "    else:\n",
    "        given_keywords.append(data.split('\\n'))\n",
    "\n",
    "print(f'Всего текстов: {len(texts)}')\n",
    "print(f'Всего токенов: {count}')"
   ]
  },
  {
   "cell_type": "code",
   "execution_count": 61,
   "metadata": {},
   "outputs": [
    {
     "name": "stdout",
     "output_type": "stream",
     "text": [
      "Singer Michael Buble weds TV star Luisana Lopilato\n",
      "Canadian pop star Michael Buble kisses his bride Argentine TV actress Luisana Lopilato after their civil wedding ceremony in Buenos Aires, Argentina, Thursday March 31, 2011. (AP Photo/Natacha Pisarenko) BUENOS AIRES, Argentina (AP) - Canadian pop star Michael Buble married Argentine TV actress Luisana Lopilato in a civil ceremony on Thursday. The Grammy-winning singer of \"\"Crazy Love\"\" and his Argentine sweetheart posed for a mob of fans after tying the knot at a civil registry in downtown Buenos Aires. She wore a lilac chiffon dress with silver high heels and Buble wore a sharp gray suit as he leaned down for a smooch. Then Lopilato, 23, tossed a bouquet of purple orchids into the crowd as some fans threw rice and red rose petals and a young woman shouted \"\"I love you Michael!\"\" Buble, 35, won his Grammy last month for traditional pop vocal album, and is one of North America's top-grossing concert entertainers. Lopilato made her name as a model and in Argentine sitcoms and soap operas, including \"\"Rebel Way,\"\" \"\"Little Girls,\"\" \"\"Married With Children\"\" and \"\"Pirate Soul.\"\" The couple plan a full ceremony with 300 guests next month at a mansion outside Buenos Aires, and another wedding in Vancouver in April. They have homes in Canada, Los Angeles and Buenos Aires province. Buble dated British actress Emily Blunt for several years before he met Lopilato in 2009 during a South American concert tour. Lopilato was romantically involved before with tennis player Juan Monaco. With more than 500,000 fans and followers in Facebook and Twitter, Lopilato sent messages throughout the day, thanking her family and the media. \"\"How beautiful it all was!\"\" she wrote. \n"
     ]
    }
   ],
   "source": [
    "print(texts[0])"
   ]
  },
  {
   "cell_type": "code",
   "execution_count": 62,
   "metadata": {},
   "outputs": [],
   "source": [
    "df = pd.DataFrame({'texts': texts,\n",
    "                   'given_keywords': given_keywords})"
   ]
  },
  {
   "cell_type": "code",
   "execution_count": 63,
   "metadata": {},
   "outputs": [
    {
     "data": {
      "text/html": [
       "<div>\n",
       "<style scoped>\n",
       "    .dataframe tbody tr th:only-of-type {\n",
       "        vertical-align: middle;\n",
       "    }\n",
       "\n",
       "    .dataframe tbody tr th {\n",
       "        vertical-align: top;\n",
       "    }\n",
       "\n",
       "    .dataframe thead th {\n",
       "        text-align: right;\n",
       "    }\n",
       "</style>\n",
       "<table border=\"1\" class=\"dataframe\">\n",
       "  <thead>\n",
       "    <tr style=\"text-align: right;\">\n",
       "      <th></th>\n",
       "      <th>texts</th>\n",
       "      <th>given_keywords</th>\n",
       "    </tr>\n",
       "  </thead>\n",
       "  <tbody>\n",
       "    <tr>\n",
       "      <th>0</th>\n",
       "      <td>Singer Michael Buble weds TV star Luisana Lopi...</td>\n",
       "      <td>[married Argentine, his Grammy, ceremony, kiss...</td>\n",
       "    </tr>\n",
       "    <tr>\n",
       "      <th>1</th>\n",
       "      <td>Dolce and Gabbana will not face trial after &amp;#...</td>\n",
       "      <td>[masterminded an instantly recognisable highen...</td>\n",
       "    </tr>\n",
       "    <tr>\n",
       "      <th>2</th>\n",
       "      <td>Plus size fashion: Size 18 clothes CAN look st...</td>\n",
       "      <td>[earrings 650, ASOScom, 28 Indigo Collection, ...</td>\n",
       "    </tr>\n",
       "    <tr>\n",
       "      <th>3</th>\n",
       "      <td>Radioactive boars in Germany a legacy of Chern...</td>\n",
       "      <td>[typically conservative, snouts, radioactivity...</td>\n",
       "    </tr>\n",
       "    <tr>\n",
       "      <th>4</th>\n",
       "      <td>Are Some Kids Overscheduled?\\nExperts debate p...</td>\n",
       "      <td>[Mata, American kids always, presentation Thur...</td>\n",
       "    </tr>\n",
       "  </tbody>\n",
       "</table>\n",
       "</div>"
      ],
      "text/plain": [
       "                                               texts  \\\n",
       "0  Singer Michael Buble weds TV star Luisana Lopi...   \n",
       "1  Dolce and Gabbana will not face trial after &#...   \n",
       "2  Plus size fashion: Size 18 clothes CAN look st...   \n",
       "3  Radioactive boars in Germany a legacy of Chern...   \n",
       "4  Are Some Kids Overscheduled?\\nExperts debate p...   \n",
       "\n",
       "                                      given_keywords  \n",
       "0  [married Argentine, his Grammy, ceremony, kiss...  \n",
       "1  [masterminded an instantly recognisable highen...  \n",
       "2  [earrings 650, ASOScom, 28 Indigo Collection, ...  \n",
       "3  [typically conservative, snouts, radioactivity...  \n",
       "4  [Mata, American kids always, presentation Thur...  "
      ]
     },
     "execution_count": 63,
     "metadata": {},
     "output_type": "execute_result"
    }
   ],
   "source": [
    "df.head(5)"
   ]
  },
  {
   "cell_type": "markdown",
   "metadata": {},
   "source": [
    "#### Разметка - сразу в тетрадке"
   ]
  },
  {
   "cell_type": "code",
   "execution_count": 64,
   "metadata": {},
   "outputs": [],
   "source": [
    "my_keywords = []"
   ]
  },
  {
   "cell_type": "code",
   "execution_count": 65,
   "metadata": {
    "collapsed": true
   },
   "outputs": [
    {
     "name": "stdout",
     "output_type": "stream",
     "text": [
      "\n",
      " Singer Michael Buble weds TV star Luisana Lopilato\n",
      "Canadian pop star Michael Buble kisses his bride Argentine TV actress Luisana Lopilato after their civil wedding ceremony in Buenos Aires, Argentina, Thursday March 31, 2011. (AP Photo/Natacha Pisarenko) BUENOS AIRES, Argentina (AP) - Canadian pop star Michael Buble married Argentine TV actress Luisana Lopilato in a civil ceremony on Thursday. The Grammy-winning singer of \"\"Crazy Love\"\" and his Argentine sweetheart posed for a mob of fans after tying the knot at a civil registry in downtown Buenos Aires. She wore a lilac chiffon dress with silver high heels and Buble wore a sharp gray suit as he leaned down for a smooch. Then Lopilato, 23, tossed a bouquet of purple orchids into the crowd as some fans threw rice and red rose petals and a young woman shouted \"\"I love you Michael!\"\" Buble, 35, won his Grammy last month for traditional pop vocal album, and is one of North America's top-grossing concert entertainers. Lopilato made her name as a model and in Argentine sitcoms and soap operas, including \"\"Rebel Way,\"\" \"\"Little Girls,\"\" \"\"Married With Children\"\" and \"\"Pirate Soul.\"\" The couple plan a full ceremony with 300 guests next month at a mansion outside Buenos Aires, and another wedding in Vancouver in April. They have homes in Canada, Los Angeles and Buenos Aires province. Buble dated British actress Emily Blunt for several years before he met Lopilato in 2009 during a South American concert tour. Lopilato was romantically involved before with tennis player Juan Monaco. With more than 500,000 fans and followers in Facebook and Twitter, Lopilato sent messages throughout the day, thanking her family and the media. \"\"How beautiful it all was!\"\" she wrote. \n",
      "\n",
      "Keywords: Michael Buble, Luisana Lopilato, pop star, TV actress, model, wedding, ceremony, civil registry, Buenos Aires, fans\n",
      "\n",
      " Dolce and Gabbana will not face trial after &#xa3;1bn fraud case is thrown out\n",
      "Milan judge rules there is not enough evidence to support accusations against the Italian designers Domenico Dolce and Stefano Gabbana will no longer have to worry about what to wear in court. Italian fashion's most powerful design duo have been told they will not stand trial for an alleged €1bn (£880m) tax dodge after a judge in Milan threw out the case against them at a preliminary hearing. The pair have built one of the world's largest fashion brands, beloved of celebrities such as Madonna and Kylie. They were accused of fraud of around €1bn as part of an inquiry into reports the company had failed to declare €840m in revenues. Both designers, Dolce's brother Alfonso and three other senior members of the company were accused but all denied the charges. Judge Simone Luerti ruled there was not enough evidence to take the Milanese designers to trial, and closed the file on other people who had been under investigation as well. The reported allegation was that Dolce & Gabbana created a company in Luxembourg in 2004 and 2005 which was given control of the group's two brands - the main label and its younger line D&G - so avoiding Italian taxes. It is unlikely that sales of their brand of \"\"molto-sexy\"\" clothes will have been affected by this near brush with scandal. Dolce and Gabbana are a superstar partnership - there are stores in 34 countries - who have masterminded an instantly recognisable high-end Euro-look. They are central to the Milanese fashion notion of \"\"more is more\"\". Alongside super-sexy ads, the brand's success has been based on its ability to sell well-tailored suiting and glitzy party dresses alongside more affordable branded items including T-shirts, jeans, perfume, sunglasses and makeup. This is not the first controversy Dolce and Gabbana have weathered. Three years ago, they came under fire over an advertisement that was accused of exalting gang rape: it showed a woman being held down on the ground by a man while other men looked on. In 2009, Giorgio Armani accused the couple of having copied a design for quilted trousers - a charge Dolce and Gabbana contemptuously dismissed. \n",
      "\n",
      "Keywords: Dolce, Gabbana, fashion, tax dodge, fraud, trial, designers, Dolce and Gabbana\n",
      "\n",
      " Plus size fashion: Size 18 clothes CAN look stylish\n",
      "If you've ever tried to tug a poorly fitting pair of size 16 jeans over your hips in a changing room before collapsing in a dejected heap on the floor, you are not alone. One in four British women is now wearing a size 18 or above. But as Radio 4 presenter Jenni Murray admitted in this paper last week, it is almost impossible to find clothes that are both big and beautiful. So is hiding away in shapeless sacks the only solution? It most certainly is not. As a fashion stylist who has dressed celebrities of all shapes and sizes, I've discovered that every - and I mean every - woman can look good. If you know where to look, there are some fantastic companies, both on the High Street and on the internet, that have finally woken up to the fact that curvier women don't just want to crawl away and hide. My number one rule is to ditch the hard-wired belief that plus-size means frumpy. Brave the High Street and (politely, of course) demand to be noticed. There are plenty of chains that go up to your size, from Marks & Spencer and Evans to Debenhams, New Look and Monsoon. If you can't face the tyranny of badly lit dressing rooms, there are countless online stores that you can peruse from the comfort of your living room. Simply Be, Marisota, Duo, Anna Scholz, Beige Plus and Ann Harvey are a few of the best - and even trendy boutique ASOS.com has launched a fashion-forward plus-size label, ASOS Curve. So here's my pick of what's on offer, as worn by our gorgeous model Nina (bust 36DD, waist 36in, hips 46in). Enlarge Highlight your body as you would your face. Put the darkest colour on your heaviest area, or use colour to create a slim panel down the centre of your outfit. This can be done with a dark cardigan over a lighter shift dress - but this flattering frock does the work for you. Camel and black dress £60, Star by Julien MacDonald at Debenhams; jacket £40, Dorothy Perkins; ring stack £7.50, Daisy & Eve at Evans; shoes £105, duoboots.com Enlarge You can wear stripes, capes and slim-fitting trousers - it's just about wearing them well. All stripes work, whatever your dress size, if they're broken up with layering. Team them with darker trousers and try a cardigan on top. Or wear under a fun and playful cape like this one, which hides larger hips. Cape £70 and jeans £30, both Asos Curve; striped top £8.99, New Look; necklace £125, Bulatti.co.uk; sunglasses £123, Miu Miu at David Clulow; shoes £120, Ted Baker; bag £60, vivaladiva.com Enlarge This season's catwalk featured a lot of print - and there's no reason for plus-size girls to be left out. Prints are a nifty way to disguise lumps and bumps. Tall girls can pull off large, bold prints, but something subtler like this suits everyone. Break up the print with jackets or cardigans in plain colours. China print long dress £75, Evans Collection at Evans; white shrug £19.50, Evans; necklace £10, Daisy & Eve at Evans; sandals £19.99, New Look Enlarge Do you have slim legs, but worry about your hips and thighs? You can still do fitted trousers like these combats - simply layer longer pieces over the top to disguise problem areas. This lightweight parka is thin enough to wear in summer and completes the combat look. Parka £42, simplybe.co.uk; trousers £28, Indigo Collection at Marks & Spencer; yellow sleeveless shirt £19.99, New Look; belt £6, Dorothy Perkins; scarf £89, Epice at Fenwick; earrings £6.50 (part of a multipack), Daisy & Eve at Evans; ring £69, Lola Rose; shoe boots £120, duoboots.com Enlarge GET OUT OF THE LEGGINGS RUT: Harem pants are a super-comfortable alternative to leggings. You have to be fearless to wear them as there will still be volume around your hips and bum - that's part of the silhouette. But if you keep the top half short, you'll emphasise your waist. If you're concerned about the jersey fabric revealing wobbly bits, wear control tights to smooth them out. White jacket £139, Anna Scholz; blush lace top £39.50, Limited Collection at Marks & Spencer; trousers £50, Monsoon; necklace £118, Lola Rose; earrings (part of a multipack) £6.50, Daisy & Eve at Evans; shoes £120, duoboots.com Enlarge This is a fantastic shape if you've got a big bum, and it's everywhere at the moment thanks to Mad Men. This dress has a lovely V-shape neckline which helps slim a big bust, and volume in the skirt to skim over your hips and thighs. With a dress this perfect, you can get away with a daring pattern like these thick stripes on the bottom half. Red dress £59, Per Una at Marks & Spencer; cardigan £48, Monsoon; shoes £89.95, modainelle.com THE BASICS... TROUSERS: Should be higher-waisted, ideally with a smooth front and the zip at the side. SLEEVES: Are either elbow or three-quarter length — keep your eye out for cover-ups to wear over strappy tops or dresses. Avoid cap sleeves as these cut your arm at the widest point. NECKLINES: Are more flattering when lower, but you can cover up with a jersey camisole (£5 up to size 24 at Marks & Spencer). SKIRTS: Should sit smoothly across the front. A kick-out at the knee will give a balancing effect. DRESSES: Should have a back zip, not a side one. Diagonal ruching across the body is always slimming. AND DON'T FORGET... ACCESSORIES: Go for big, bold pieces. Daisy & Eve at Evans do an excellent range, with bangles and rings in all sizes. Lola Rose (lolarose.com) has a great range of stretch bangles. Use long necklaces (adele-marie.com has a good selection) and scarves to draw the eye down your body. SHOES: Evans has a great in-store range of wide-fitting shoes (up to size 11) and Duo (duoboots.com) has boot styles in calf widths up to 50cm and an amazing selection of footwear in three width fittings up to size nine. GOOD UNDERWEAR: This is essential in order to achieve the smoothest, sleekest shape you can. Simply Be (simplybe.co.uk) stocks Gok Wan’s excellent shapewear and a good selection of large bras that look feminine. Pictures: Joel Anderson. Model: Nina Hartley/excel. Hair and make-up: Katie Reedman \n"
     ]
    },
    {
     "name": "stdout",
     "output_type": "stream",
     "text": [
      "\n",
      "Keywords: fashion, plus size, clothes, size, plus-size, hips, thighs\n",
      "\n",
      " Radioactive boars in Germany a legacy of Chernobyl\n",
      "Radioactive boars: A quarter century after the Chernobyl nuclear disaster in the Soviet Union carried a cloud of radiation across Europe, these animals are radioactive enough that people are urged not to eat them. BERLIN For a look at just how long radioactivity can hang around, consider Germany's wild boars. A quarter century after the Chernobyl nuclear disaster in the Soviet Union carried a cloud of radiation across Europe, these animals are radioactive enough that people are urged not to eat them. And the mushrooms the pigs dine on aren't fit for consumption either. Germany's experience shows what could await Japan - if the problems at the Fukushima Dai-ichi plant get any worse. Nuclear power around the world The German boars roam in forests nearly 950 miles (1,500 kilometers ) from Chernobyl. Yet, the amount ofradioactive cesium-137 within their tissue often registers dozens of times beyond the recommended limit for consumption and thousands of times above normal. \"\"We still feel the consequences of Chernobyl's fallout here,\"\" said Christian Kueppers, a radiation expert at Germany's Institute for Applied Ecology in Freiburg. \"\"The contamination won't go away any time soon - with cesium's half-life being roughly 30 years, theradioactivity will only slightly decrease in the coming years.\"\" Cesium can build up in the body and high levels are thought to be a risk for various other cancers. Still, researchers who studied Chernobyl could not find an increase in cancers that might be linked to cesium. Cesium also accumulates over time in the soil, which makes boars most susceptible They snuffle through forest soil with their snouts and feed on the kinds of mushroom that tend to store radioactivity, Environment Ministry spokesman Thomas Hagbeck said. The problem is so common that now all wild boars bagged by hunters in the affected regions have to be checked for radiation. Government compensation to hunters whose quarry has to be destroyed has added up to €460,000 ($650,000) over the past 12 months, Hagbeck said. \"\"It's really sad when you have to throw out meat that is normally extraordinarily tasty,\"\" said Joachim Reddemann, managing director of Bavaria state's hunting association. Thousands of wild boars killed in southern Germany every year register unacceptable levels of radiation. It's calculated in becquerels, a measurement of radiation given off. Anything beyond 600 becquerels per kilogram isn't recommended, according to Germany's Federal Office for Radiation Protection. Normal meat has an average contamination of 0.5 becquerel per kilogram, and a German would normally consume about 100 becquerels per year from plants and dairy products, the agency said. About 2 percent of the 50,000 boars hunted are above the legal radioactivity limit, Reddemann said. And the government's radiation protection office says some mushrooms have registered up to 20 times the legal cesium limit. Even farther away in France, there is still soil contamination, though levels have dropped significantly. It is now rare to find unsafe levels of cesium in boars and mushrooms, said radiation expert Philippe Renaud of France's Institute of Radiation Protection and Nuclear Safety. In Austria, too, traces of radioactive cesium remain in the soil. Along with boars and mushrooms, deer have been affected - some testing at five times the legal limit, that country's environment agency says. Japan's Fukushima plant has so far not leaked nearly as much radiation as Chernobyl, but authorities there have banned the sale of milk, spinach, cabbage and other products from surrounding regions as a precaution. European officials insist that occasionally eating contaminated boar meat or mushrooms does not pose an immediate health risk. Public health agencies are typically conservative in setting limits for radioactivity in food. Eating 200 grams of mushrooms tested seven times above the legal cesium limit, for example, would amount to the same exposure as the altitude radiation taken in during a 2,000-mile flight, according to Germany's Office for Radiation Protection. In Austria, authorities say that eating the unlikely amount of 2 pounds of contaminated boar meat that is 10 times above the legal cesium limit would amount to two-thirds of an adult's normal annual radiation intake by food. However, the possibility of exposure will not be going away anytime soon. \"\"We assume that wild game will still be similarly affected until 2025 and then very slowly recede,\"\" said Reddemann, of Bavaria's hunting association. \"\"The problem will certainly still be around for the next 100 years, and Chernobyl will still be an issue for our children and grandchildren.\"\" Nuclear power around the world \n",
      "\n",
      "Keywords: Chernobyl, cesium, meat, becquerels, wild boars, mushrooms, contamination, radioactivity, health, Germany, radiation, hunting\n",
      "\n",
      " Are Some Kids Overscheduled?\n",
      "Experts debate pros, cons of highly programmed childhood THURSDAY, March 31 (HealthDay News) - From sports practices to music lessons to community service, American kids always seem to have plenty to keep them busy. But whether they're actually too busy - reaching a tipping point detrimental to their mental and physical health - remains a topic of debate. The subject of overscheduled children has been on scientists' radar for at least a decade, said Andrea Mata, a doctoral student at Kent State University whose recent study on highly involved children was scheduled for presentation Thursday at a symposium in Montreal run by the Society for Research in Child Development. \"\"I think it's a hot topic right now,\"\" Mata said. \"\"There's definitely a mix of viewpoints. So I think a lot more research is needed to find out what's going on.\"\" The SRCD symposium will examine which children and adolescents become overscheduled, what happens at high levels of extracurricular involvement, and how factors such as school grades and aggression levels are affected. Between 70 percent and 83 percent of American children and teens claim to take part in at least one extracurricular pursuit, spending an average of five to nine hours per week in structured activities, according to the SRCD. Only 5 percent to 7 percent, however, devote more than 20 hours per week to these activities. Jean Twenge, author of the book Generation Me and a professor of psychology at San Diego State University, said data gathered between the 1950s and the 1990s indicated overscheduling rose during that period and then leveled off. \"\"Are kids really overscheduled? It's not the average experience, but that doesn't mean it's not a problem,\"\" Twenge said. \"\"Parents worry about keeping up, but it's certain types of parents who worry about it.\"\" Twenge said the ever-mounting competition for admission to the nation's top colleges compels some parents and kids to fill every spare hour with impressive-looking endeavors. Mata's study followed 1,354 children from birth through age 15, dividing them into groups based on how involved they were outside of school and home. The 43 children in the highest activity level averaged 129 minutes per week of structured activities at kindergarten, which increased to 254 minutes weekly by fifth grade. Highly involved children were more likely to be girls from more affluent families, Mata said, and their mothers had attained higher education levels. This group had higher grades and lower levels of delinquency, among other behavioral and academic measurements, compared to less-involved children, she said. \"\"We're looking at it in a much more positive way,\"\" Mata said. \"\"These highly involved kids are highly adaptive and high-functioning.\"\" Linda Balog, former executive director of the Child and Adolescent Stress Management Institute at State University of New York at Brockport, said parents should ask their children how they feel about their extracurricular pursuits and whether they feel overwhelmed and stressed. \"\"We see some kids forced into organized sports at early ages and then get so burned out that they opt not to play in high school,\"\" said Balog, an associate professor of health sciences who's teaching a course on child and adolescent stress. \"\"Sometimes parents live through their children - a sort of surrogate self,\"\" she added. \"\"I think we have to err on the side of backing off a bit . . . as opposed to everything being organized and structured.\"\" Experts note that research presented at meetings is considered preliminary until it is published in a peer-reviewed journal. \n"
     ]
    },
    {
     "name": "stdout",
     "output_type": "stream",
     "text": [
      "\n",
      "Keywords: kids, school, children, school, activities, extracurricular\n",
      "\n",
      " NCAA tournament:\n",
      "Nobody will dispute that they are great coaches, and the latest evidence lies in the teams they guided to this year's Final Four. Nobody will argue that John Calipari and Jim Calhoun are saints, either. The men on the sidelines for the Kentucky-Connecticut Final Four matchup have had their share of trouble - with each other, the programs they run and the NCAA. They are a microcosm of everything that's right and wrong in college basketball - a coach-driven game where good leaders can elevate programs and players to new levels but the road to success often produces its fair share of cringeworthy dealing. Calipari leads the fourth-seeded Wildcats (29-8) against Calhoun and the third-seeded Huskies (30-9) in the second semifinal Saturday. Both coaches coaxed a turnaround out of their young, struggling teams to make unexpected trips to the game's biggest stage - the third for Calipari and fourth for Calhoun. On the eve of the game, their histories were as lively a topic as the success of their teams. One of the first questions Calipari fielded Friday was whether he is the 2000\"\"s version of former UNLV coach Jerry Tarkanian, a coach who did a lot of winning in his day but did it with his phone number firmly entrenched on the NCAA's speed dial. The question slid off the Wildcats coach as smoothly as good Kentucky bourbon. \"\"I respect everything that Jerry did - his kids, how they played, all those things,\"\" Calipari said. \"\"But, no, I think I'm the 2011 John Calipari. I don't know what that means, and I hate to talk in the third party. But I am who I am.\"\" Calipari is back in Houston, where three years ago he won two games at the regional to lead Memphis to the Final Four, only to leave that school a year later, just as the program was running into NCAA problems involving the recruitment of Derrick Rose. Calipari's first Final Four visit, with Massachusetts back in 1996, also has been scrubbed by the NCAA. Which led to another tongue-in-cheek question: How does it feel to be coaching in your first Final Four? \"\"I don't deal with that,\"\" said the 52-year-old coach, who spent four years in the NBA between his stints at UMass and Memphis. \"\"We've been here three times. Those players played those games and did what they were supposed to. I'm so proud of what they've all accomplished.\"\" He says this without apology. Though his schools suffered, Calipari was not found at fault in either of the NCAA probes. The so-called problems between Cal and Cal began during those UMass days, when the coaches were on top of each other in neighboring states - one trying to protect his turf and the other trying to carve out his own. The 68-year-old Calhoun lightheartedly reprised the complaints he raised more than a decade ago about Calipari - a Pittsburgh native trying to muscle his way through New England - but made it clear the enmity has died down as the years have passed. \"\"From a generational standpoint, to the fact that John really was trying to claim New England,\"\" Calhoun said of the lack of a true friendship with his counterpart. Then, he affected his best Boston accent: \"\"He could never say he pahked the caah in Hahvahd Yahd, he didn't know what clam chowder really was. I took (umbrage) to it, but I take (umbrage) to a lot of things.\"\" \n",
      "\n",
      "Keywords: coaches, NCAA, basketball, Calipari, Calhoun\n",
      "\n",
      " eBay releases iPad 2 sales\n",
      "Apple has yet to reveal its official sales numbers for the iPad 2. But Friday we got a glimpse of how the tablet is selling, as eBay released its figures for the first two weeks of sales. About 12,000 iPad 2 tablets were sold in the period between the iPad 2’s U.S. and international launches. As CNET noted, the surprise number here is that the iPad 2 is being resold in the United States at a much higher rate than was the first iPad. According to eBay’s figures, 64 percent of its iPad 2 sales are in the United States, compared with just 35 percent with the original iPad. When it comes to resales overseas, Russia snapped up the most devices — 500 — in the tablet’s first two weeks on the market, followed by Canada, Hong Kong, Japan and the United Kingdom. Related stories: iPad 2 coming to Radio Shack tomorrow iPad 2 review: the week-later edition iPad 2 shipping wait time at three to four weeks \n",
      "\n",
      "Keywords: Apple, iPad 2, eBay, tablet, the United States, sales\n"
     ]
    }
   ],
   "source": [
    "for text in df.texts.to_list():\n",
    "    print('\\n', text)\n",
    "    my_answer = input('\\nKeywords: ')\n",
    "    my_keywords.append(my_answer.split(', '))"
   ]
  },
  {
   "cell_type": "code",
   "execution_count": 66,
   "metadata": {},
   "outputs": [],
   "source": [
    "df['my_keywords'] = my_keywords"
   ]
  },
  {
   "cell_type": "code",
   "execution_count": 67,
   "metadata": {},
   "outputs": [
    {
     "data": {
      "text/html": [
       "<div>\n",
       "<style scoped>\n",
       "    .dataframe tbody tr th:only-of-type {\n",
       "        vertical-align: middle;\n",
       "    }\n",
       "\n",
       "    .dataframe tbody tr th {\n",
       "        vertical-align: top;\n",
       "    }\n",
       "\n",
       "    .dataframe thead th {\n",
       "        text-align: right;\n",
       "    }\n",
       "</style>\n",
       "<table border=\"1\" class=\"dataframe\">\n",
       "  <thead>\n",
       "    <tr style=\"text-align: right;\">\n",
       "      <th></th>\n",
       "      <th>texts</th>\n",
       "      <th>given_keywords</th>\n",
       "      <th>my_keywords</th>\n",
       "    </tr>\n",
       "  </thead>\n",
       "  <tbody>\n",
       "    <tr>\n",
       "      <th>0</th>\n",
       "      <td>Singer Michael Buble weds TV star Luisana Lopi...</td>\n",
       "      <td>[married Argentine, his Grammy, ceremony, kiss...</td>\n",
       "      <td>[Michael Buble, Luisana Lopilato, pop star, TV...</td>\n",
       "    </tr>\n",
       "    <tr>\n",
       "      <th>1</th>\n",
       "      <td>Dolce and Gabbana will not face trial after &amp;#...</td>\n",
       "      <td>[masterminded an instantly recognisable highen...</td>\n",
       "      <td>[Dolce, Gabbana, fashion, tax dodge, fraud, tr...</td>\n",
       "    </tr>\n",
       "    <tr>\n",
       "      <th>2</th>\n",
       "      <td>Plus size fashion: Size 18 clothes CAN look st...</td>\n",
       "      <td>[earrings 650, ASOScom, 28 Indigo Collection, ...</td>\n",
       "      <td>[fashion, plus size, clothes, size, plus-size,...</td>\n",
       "    </tr>\n",
       "    <tr>\n",
       "      <th>3</th>\n",
       "      <td>Radioactive boars in Germany a legacy of Chern...</td>\n",
       "      <td>[typically conservative, snouts, radioactivity...</td>\n",
       "      <td>[Chernobyl, cesium, meat, becquerels, wild boa...</td>\n",
       "    </tr>\n",
       "    <tr>\n",
       "      <th>4</th>\n",
       "      <td>Are Some Kids Overscheduled?\\nExperts debate p...</td>\n",
       "      <td>[Mata, American kids always, presentation Thur...</td>\n",
       "      <td>[kids, school, children, school, activities, e...</td>\n",
       "    </tr>\n",
       "  </tbody>\n",
       "</table>\n",
       "</div>"
      ],
      "text/plain": [
       "                                               texts  \\\n",
       "0  Singer Michael Buble weds TV star Luisana Lopi...   \n",
       "1  Dolce and Gabbana will not face trial after &#...   \n",
       "2  Plus size fashion: Size 18 clothes CAN look st...   \n",
       "3  Radioactive boars in Germany a legacy of Chern...   \n",
       "4  Are Some Kids Overscheduled?\\nExperts debate p...   \n",
       "\n",
       "                                      given_keywords  \\\n",
       "0  [married Argentine, his Grammy, ceremony, kiss...   \n",
       "1  [masterminded an instantly recognisable highen...   \n",
       "2  [earrings 650, ASOScom, 28 Indigo Collection, ...   \n",
       "3  [typically conservative, snouts, radioactivity...   \n",
       "4  [Mata, American kids always, presentation Thur...   \n",
       "\n",
       "                                         my_keywords  \n",
       "0  [Michael Buble, Luisana Lopilato, pop star, TV...  \n",
       "1  [Dolce, Gabbana, fashion, tax dodge, fraud, tr...  \n",
       "2  [fashion, plus size, clothes, size, plus-size,...  \n",
       "3  [Chernobyl, cesium, meat, becquerels, wild boa...  \n",
       "4  [kids, school, children, school, activities, e...  "
      ]
     },
     "execution_count": 67,
     "metadata": {},
     "output_type": "execute_result"
    }
   ],
   "source": [
    "df.head(5)"
   ]
  },
  {
   "cell_type": "code",
   "execution_count": 68,
   "metadata": {},
   "outputs": [],
   "source": [
    "df.to_csv('df_dataset.csv', index=False)"
   ]
  },
  {
   "cell_type": "markdown",
   "metadata": {},
   "source": [
    "#### Оценить пересечение, составить эталон"
   ]
  },
  {
   "cell_type": "code",
   "execution_count": 124,
   "metadata": {},
   "outputs": [],
   "source": [
    "def depunkt(text):\n",
    "    words = [word.lower() for word in word_tokenize(text)\n",
    "             if word.isalpha()]\n",
    "    return ' '.join(words)"
   ]
  },
  {
   "cell_type": "code",
   "execution_count": 126,
   "metadata": {},
   "outputs": [],
   "source": [
    "df['texts'] = df['texts'].apply(depunkt)\n",
    "df['given_keywords'] = df['given_keywords'].map(lambda x: list(map(str.lower, x)))\n",
    "df['my_keywords'] = df['my_keywords'].map(lambda x: list(map(str.lower, x)))"
   ]
  },
  {
   "cell_type": "code",
   "execution_count": 108,
   "metadata": {},
   "outputs": [],
   "source": [
    "given = df.given_keywords.to_list()\n",
    "my = df.my_keywords.to_list()"
   ]
  },
  {
   "cell_type": "code",
   "execution_count": 109,
   "metadata": {},
   "outputs": [
    {
     "name": "stdout",
     "output_type": "stream",
     "text": [
      "Готовая разметка 42 шт, моя разметка 10 шт, совпали 1 шт\n",
      "Готовая разметка 62 шт, моя разметка 8 шт, совпали 4 шт\n",
      "Готовая разметка 118 шт, моя разметка 7 шт, совпали 3 шт\n",
      "Готовая разметка 75 шт, моя разметка 12 шт, совпали 9 шт\n",
      "Готовая разметка 96 шт, моя разметка 6 шт, совпали 2 шт\n",
      "Готовая разметка 51 шт, моя разметка 5 шт, совпали 1 шт\n",
      "Готовая разметка 39 шт, моя разметка 6 шт, совпали 4 шт\n"
     ]
    }
   ],
   "source": [
    "for g, m in zip(given, my):\n",
    "    print(f'''Готовая разметка {len(g)} шт, моя разметка {len(m)} шт, совпали {len(set(g) & set(m))} шт''')"
   ]
  },
  {
   "cell_type": "markdown",
   "metadata": {},
   "source": [
    "Я начну с эталона как с объеднинения двух разметок, затем, если результаты будут слишком хорошие, попробую сократить эталон только до моей разметки. Пока мне не нравится, что в готовой разметке уж очень много ключевых слов, которые, на мой взгляд, совсем и не ключевые"
   ]
  },
  {
   "cell_type": "code",
   "execution_count": 110,
   "metadata": {},
   "outputs": [],
   "source": [
    "gold = []\n",
    "for g, m in zip(given, my):\n",
    "    union = list(set(g) | set(m))\n",
    "    gold.append(union)"
   ]
  },
  {
   "cell_type": "code",
   "execution_count": 130,
   "metadata": {},
   "outputs": [],
   "source": [
    "df['gold'] = gold"
   ]
  },
  {
   "cell_type": "markdown",
   "metadata": {},
   "source": [
    "#### Применить три метода извлечения ключевых слов"
   ]
  },
  {
   "cell_type": "code",
   "execution_count": 131,
   "metadata": {},
   "outputs": [],
   "source": [
    "# rake\n",
    "\n",
    "rake_keywords = []\n",
    "rake = RAKE.Rake(stop)\n",
    "for text in df.texts:\n",
    "    rake_output = rake.run(text)#, maxWords=3, minFrequency=2)\n",
    "    wordlist = list(map(lambda x: x[0], filter(lambda x: x[1] != 0, rake_output)))\n",
    "    rake_keywords.append(wordlist)\n",
    "    \n",
    "df['rake_keywords'] = rake_keywords"
   ]
  },
  {
   "cell_type": "code",
   "execution_count": 132,
   "metadata": {},
   "outputs": [],
   "source": [
    "# textrank\n",
    "\n",
    "textrank_keywords = []\n",
    "for text in df.texts:\n",
    "    textrank_output = keywords.keywords(text, language='english', additional_stopwords=stop, scores=True)\n",
    "    wordlist = list(map(lambda x: x[0], filter(lambda x: x[1] != 0, textrank_output)))\n",
    "    textrank_keywords.append(wordlist)\n",
    "    \n",
    "df['textrank_keywords'] = textrank_keywords"
   ]
  },
  {
   "cell_type": "code",
   "execution_count": 264,
   "metadata": {},
   "outputs": [],
   "source": [
    "# tf-idf\n",
    "\n",
    "tfidf_keywords = []\n",
    "\n",
    "vectorizer = TfidfVectorizer(ngram_range=(1,3), stop_words=stop)\n",
    "X = vectorizer.fit_transform(df.texts).toarray()\n",
    "all_words = np.array(vectorizer.get_feature_names())\n",
    "for idx, row in enumerate(X):\n",
    "    top_words = np.argsort(row)[::-1]\n",
    "    # беру столько же топ слов, сколько в золотом стандарте\n",
    "    sorted_words = all_words[top_words[:len(df.gold[idx])].ravel()]\n",
    "    tfidf_keywords.append(sorted_words)\n",
    "    \n",
    "df['tfidf_keywords'] = tfidf_keywords"
   ]
  },
  {
   "cell_type": "markdown",
   "metadata": {},
   "source": [
    "#### Составить и применить шаблоны\n",
    "Я одновременно размечаю ключевые слова по частям речи автоматически и просматриваю результаты глазами. На самом деле делаю это потому, что не сильно разбираюсь в частях речи в английском с их почти отсутствующей морфологией"
   ]
  },
  {
   "cell_type": "code",
   "execution_count": 189,
   "metadata": {},
   "outputs": [],
   "source": [
    "def get_pos(phrase_list):\n",
    "    res = []\n",
    "    for phrase in phrase_list:\n",
    "        pos_list = list(map(lambda x: x[1], nltk.pos_tag(phrase.split(' '))))\n",
    "        res.append(' + '.join(pos_list))\n",
    "    return res"
   ]
  },
  {
   "cell_type": "code",
   "execution_count": 196,
   "metadata": {
    "collapsed": true
   },
   "outputs": [
    {
     "name": "stdout",
     "output_type": "stream",
     "text": [
      "[('south american', 'JJ + JJ'),\n",
      " ('after tying', 'IN + VBG'),\n",
      " ('luisana lopilato', 'NN + NN'),\n",
      " ('bride argentine tv actress', 'RB + JJ + NN + NN'),\n",
      " ('argentina ap', 'NNS + VBP'),\n",
      " ('pop star', 'NN + NN'),\n",
      " ('wedding ceremony', 'NN + NN'),\n",
      " ('canadian pop', 'JJ + NN'),\n",
      " ('tv actress', 'NN + NN'),\n",
      " ('buenos aires', 'NN + NNS'),\n",
      " ('married argentine', 'JJ + NN'),\n",
      " ('buble dated', 'JJ + VBD'),\n",
      " ('his grammy', 'PRP$ + NN'),\n",
      " ('lopilato made', 'NN + VBD'),\n",
      " ('vocal album', 'JJ + NN'),\n",
      " ('argentine sweetheart', 'JJ + NN'),\n",
      " ('civil registry', 'JJ + NN'),\n",
      " ('michael buble', 'NN + NN'),\n",
      " ('crazy love', 'JJ + NN'),\n",
      " ('chiffon dress', 'NN + NN')]\n",
      "\n",
      "Pattern: JJ + JJ, NN + NN, JJ + NN\n",
      "[('milanese fashion notion', 'JJ + NN + NN'),\n",
      " ('giorgio armani accused', 'NN + NNS + VBD'),\n",
      " ('tax dodge', 'NN + NN'),\n",
      " ('exalting gang rape', 'VBG + NN + NN'),\n",
      " ('supersexy ads', 'NN + NNS'),\n",
      " ('younger line dg', 'JJR + NN + NN'),\n",
      " ('welltailored suiting', 'VBD + NN'),\n",
      " ('around 1bn', 'IN + CD'),\n",
      " ('preliminary hearing', 'JJ + NN'),\n",
      " ('stefano gabbana', 'NN + NN'),\n",
      " (\"world's largest fashion brands\", 'RB + JJS + NN + NNS'),\n",
      " ('masterminded an instantly recognisable highend eurolook',\n",
      "  'VBD + DT + RB + JJ + NN + NN'),\n",
      " ('tshirts jeans perfume sunglasses', 'NNS + NNS + VBP + NNS'),\n",
      " (\"italian fashion's most powerful design\", 'JJ + NN + RBS + JJ + NN'),\n",
      " ('instantly recognisable highend eurolook', 'RB + JJ + NN + NN'),\n",
      " ('main label', 'JJ + NN'),\n",
      " ('reported allegation', 'VBN + NN'),\n",
      " ('milanese designers', 'JJ + NNS'),\n",
      " ('declare 840m', 'NN + CD'),\n",
      " ('dolce and gabbana', 'NN + CC + NN'),\n",
      " ('milan judge rules', 'NN + NN + NNS'),\n",
      " (\"dolce's brother alfonso\", 'NN + NN + NN'),\n",
      " ('powerful design', 'JJ + NN'),\n",
      " ('gabbana created', 'NNS + VBD'),\n",
      " ('support accusations', 'NN + NNS'),\n",
      " ('glitzy party dresses', 'NN + NN + NNS'),\n",
      " ('milan judge', 'NN + NN'),\n",
      " (\"group's two brands\", 'NN + CD + NNS'),\n",
      " ('judge simone luerti', 'NN + NN + NN'),\n",
      " ('34 countries', 'CD + NNS'),\n",
      " ('madonna and kylie', 'NN + CC + VB'),\n",
      " ('moltosexy clothes', 'NN + NNS'),\n",
      " ('alleged 1bn 880m tax dodge', 'VBD + CD + CD + NN + NN'),\n",
      " ('giorgio armani', 'NN + NN'),\n",
      " ('senior members', 'JJ + NNS'),\n",
      " ('three years ago', 'CD + NNS + RB'),\n",
      " (\"italian fashion's\", 'JJ + NN'),\n",
      " ('avoiding italian taxes', 'VBG + JJ + NNS'),\n",
      " ('quilted trousers', 'JJ + NNS'),\n",
      " ('italian designers domenico dolce', 'JJ + NNS + VBP + NN')]\n",
      "\n",
      "Pattern: NN + NNS, VBD + NN, NN + CC + NN, NN + NN + NN, JJ + NNS\n",
      "[('fantastic companies', 'JJ + NNS'),\n",
      " ('jenni murray', 'NN + NN'),\n",
      " ('marisota duo anna scholz beige plus', 'NN + NN + NN + NN + NN + CC'),\n",
      " ('42 simplybecouk', 'CD + NN'),\n",
      " ('jacket 40', 'NN + CD'),\n",
      " ('ann harvey', 'NN + NN'),\n",
      " (\"don't forget accessories\", 'NN + NN + NNS'),\n",
      " ('48 monsoon', 'CD + NN'),\n",
      " ('earrings 650', 'NNS + CD'),\n",
      " ('dorothy perkins', 'NN + NNS'),\n",
      " ('british women', 'JJ + NNS'),\n",
      " ('evans sandals', 'NNS + NNS'),\n",
      " ('leggings rut', 'NNS + NN'),\n",
      " ('plus size', 'CC + NN'),\n",
      " ('size fashion', 'NN + NN'),\n",
      " ('david clulow', 'NN + NN'),\n",
      " ('1999 new', 'CD + JJ'),\n",
      " ('125 bulatticouk', 'CD + NN'),\n",
      " ('spencer skirts', 'NN + NNS'),\n",
      " ('lola rose', 'NN + VBD'),\n",
      " ('good underwear', 'JJ + NN'),\n",
      " ('radio 4', 'NN + CD'),\n",
      " ('anna scholz', 'NN + NN'),\n",
      " ('123 miu', 'CD + NN'),\n",
      " ('28 indigo collection', 'CD + JJ + NN'),\n",
      " ('the basics trousers', 'DT + NNS + NNS'),\n",
      " ('mad men', 'JJ + NNS'),\n",
      " ('miu miu', 'NN + NN')]\n",
      "\n",
      "Pattern: CD + NN, NN + CD, CC + NN, NNS + NNS, NNS + NN, JJ + NNS, NN + NNS\n",
      "[('grandchildren nuclear', 'NNS + JJ'),\n",
      " ('environment ministry', 'NN + NN'),\n",
      " ('similarly affected', 'RB + VBD'),\n",
      " ('applied ecology', 'VBN + NN'),\n",
      " ('typically conservative', 'RB + JJ'),\n",
      " ('wild boars', 'JJ + NNS'),\n",
      " (\"germany's office\", 'NN + NN'),\n",
      " ('soviet union', 'JJ + NN'),\n",
      " ('registers dozens', 'NNS + NNS'),\n",
      " (\"france's institute of radiation protection\", 'JJ + NN + IN + NN + NN'),\n",
      " ('managing director', 'VBG + NN'),\n",
      " ('austria authorities', 'NN + NNS'),\n",
      " ('nuclear safety', 'JJ + NN'),\n",
      " ('radiation protection', 'NN + NN'),\n",
      " ('hunting association', 'VBG + NN'),\n",
      " ('milk spinach cabbage', 'NN + NN + NN')]\n",
      "\n",
      "Pattern: NNS + JJ, VBN + NN, JJ + NN, JJ + NN + IN + NN + NN\n",
      "[('health sciences', 'NN + NNS'),\n",
      " ('highfunctioning linda balog', 'VBG + NN + NN'),\n",
      " ('extracurricular pursuits', 'JJ + NNS'),\n",
      " ('highly programmed', 'RB + VBN'),\n",
      " ('affluent families mata', 'JJ + NNS + NNS'),\n",
      " ('measurements compared', 'NNS + VBN'),\n",
      " ('percent and', 'NN + CC'),\n",
      " ('music lessons', 'NN + NNS'),\n",
      " ('experts debate', 'NNS + NN'),\n",
      " ('jean twenge author', 'JJ + NN + NN'),\n",
      " ('extracurricular involvement', 'JJ + NN'),\n",
      " ('andrea mata', 'NN + NNS'),\n",
      " ('extracurricular pursuit', 'JJ + NN'),\n",
      " ('child development', 'NN + NN'),\n",
      " ('state university whose recent study', 'NN + NN + WP$ + JJ + NN'),\n",
      " ('child and', 'NN + CC'),\n",
      " ('sports practices', 'NNS + NNS'),\n",
      " ('tipping point', 'VBG + NN'),\n",
      " ('san diego state university', 'JJ + NN + NN + NN'),\n",
      " ('teens claim', 'NNS + NN'),\n",
      " ('highly involved children', 'RB + JJ + NNS'),\n",
      " ('level averaged', 'NN + VBD'),\n",
      " ('research presented', 'NN + VBD'),\n",
      " ('lessinvolved children', 'VBN + NNS'),\n",
      " ('american kids always', 'JJ + NNS + RB'),\n",
      " ('some kids overscheduled', 'DT + NNS + VBD'),\n",
      " ('school grades', 'NN + NNS'),\n",
      " ('said parents worry about', 'VBD + NNS + VBP + IN'),\n",
      " ('presentation thursday', 'NN + NN'),\n",
      " ('srcd symposium', 'NN + NN'),\n",
      " ('new york', 'JJ + NN')]\n",
      "\n",
      "Pattern: JJ + NNS, JJ + NNS, NN + NNS, NNS + NN, JJ + NN + NN + NN, RB + JJ + NNS\n",
      "[('great coaches', 'JJ + NNS'),\n",
      " ('firmly entrenched', 'RB + VBN'),\n",
      " ('lightheartedly reprised', 'RB + VBD'),\n",
      " ('began during', 'VBD + IN'),\n",
      " ('generational standpoint', 'JJ + NN')]\n",
      "\n",
      "Pattern: JJ + NN\n",
      "[('most devices', 'JJS + NNS'),\n",
      " ('united states', 'JJ + NNS'),\n",
      " ('wait time', 'NN + NN'),\n",
      " ('surprise number', 'NN + NN'),\n",
      " ('ipad 2', 'NN + CD'),\n",
      " ('weeklater edition', 'NN + NN'),\n",
      " ('radio shack tomorrow', 'NN + NN + NN'),\n",
      " ('much higher rate', 'JJ + JJR + NN'),\n",
      " ('canada hong kong japan', 'NN + NN + NN + NN'),\n",
      " ('the united states', 'DT + JJ + NNS'),\n",
      " ('united kingdom', 'JJ + NN')]\n",
      "\n",
      "Pattern: JJ + NNS, NN + CD, DT + JJ + NNS\n"
     ]
    }
   ],
   "source": [
    "# снова вручную сразу в тетрадке\n",
    "patterns = []\n",
    "for kw_list in gold:\n",
    "    phrases = [kw for kw in kw_list if len(kw.split(' ')) > 1]\n",
    "    pprint(list(zip(phrases, get_pos(phrases))))\n",
    "    pattern = input('\\nPattern: ')\n",
    "    patterns.extend(pattern.split(', '))"
   ]
  },
  {
   "cell_type": "code",
   "execution_count": 198,
   "metadata": {},
   "outputs": [],
   "source": [
    "# убрать дубликаты\n",
    "patterns = list(set(patterns))"
   ]
  },
  {
   "cell_type": "code",
   "execution_count": 230,
   "metadata": {},
   "outputs": [],
   "source": [
    "# добавить части речи для одиночных слов\n",
    "single_pos = ['NN', 'NNS', 'JJ', 'JJS', 'NNP', 'NNPS', 'VBN']\n",
    "patterns.extend(single_pos)"
   ]
  },
  {
   "cell_type": "code",
   "execution_count": 232,
   "metadata": {
    "collapsed": true
   },
   "outputs": [
    {
     "data": {
      "text/plain": [
       "['NN + CD',\n",
       " 'JJ + NN + IN + NN + NN',\n",
       " 'JJ + NNS',\n",
       " 'NN + CC + NN',\n",
       " 'NN',\n",
       " 'NN + NNS',\n",
       " 'VBD + NN',\n",
       " 'VBN + NN',\n",
       " 'JJS',\n",
       " 'JJ + NN + NN + NN',\n",
       " 'CC + NN',\n",
       " 'RB + JJ + NNS',\n",
       " 'JJ + NN',\n",
       " 'DT + JJ + NNS',\n",
       " 'VBN',\n",
       " 'NN + NN + NN',\n",
       " 'NNP',\n",
       " 'NNS + NNS',\n",
       " 'NN + NN',\n",
       " 'JJ + JJ',\n",
       " 'NNS + NN',\n",
       " 'CD + NN',\n",
       " 'NNS + JJ',\n",
       " 'NNPS',\n",
       " 'NNS',\n",
       " 'JJ']"
      ]
     },
     "execution_count": 232,
     "metadata": {},
     "output_type": "execute_result"
    }
   ],
   "source": [
    "patterns"
   ]
  },
  {
   "cell_type": "code",
   "execution_count": 233,
   "metadata": {},
   "outputs": [],
   "source": [
    "def filter_kw(kw_list):\n",
    "    new_kw_list = []\n",
    "    for kw in kw_list:\n",
    "        pos_list = list(map(lambda x: x[1], nltk.pos_tag(kw.split(' '))))\n",
    "        comb = ' + '.join(pos_list)\n",
    "        if comb in patterns:\n",
    "            new_kw_list.append(kw)\n",
    "    return new_kw_list"
   ]
  },
  {
   "cell_type": "code",
   "execution_count": 278,
   "metadata": {},
   "outputs": [],
   "source": [
    "df['gold_filtered'] = df['gold'].apply(filter_kw)\n",
    "df['my_keywords_filtered'] = df['my_keywords'].apply(filter_kw)\n",
    "df['rake_keywords_filtered'] = df['rake_keywords'].apply(filter_kw)\n",
    "df['textrank_keywords_filtered'] = df['textrank_keywords'].apply(filter_kw)\n",
    "df['tfidf_keywords_filtered'] = df['tfidf_keywords'].apply(filter_kw)"
   ]
  },
  {
   "cell_type": "code",
   "execution_count": 281,
   "metadata": {},
   "outputs": [
    {
     "data": {
      "text/html": [
       "<div>\n",
       "<style scoped>\n",
       "    .dataframe tbody tr th:only-of-type {\n",
       "        vertical-align: middle;\n",
       "    }\n",
       "\n",
       "    .dataframe tbody tr th {\n",
       "        vertical-align: top;\n",
       "    }\n",
       "\n",
       "    .dataframe thead th {\n",
       "        text-align: right;\n",
       "    }\n",
       "</style>\n",
       "<table border=\"1\" class=\"dataframe\">\n",
       "  <thead>\n",
       "    <tr style=\"text-align: right;\">\n",
       "      <th></th>\n",
       "      <th>texts</th>\n",
       "      <th>given_keywords</th>\n",
       "      <th>my_keywords</th>\n",
       "      <th>gold</th>\n",
       "      <th>rake_keywords</th>\n",
       "      <th>textrank_keywords</th>\n",
       "      <th>tfidf_keywords</th>\n",
       "      <th>rake_keywords_filtered</th>\n",
       "      <th>textrank_keywords_filtered</th>\n",
       "      <th>tfidf_keywords_filtered</th>\n",
       "      <th>gold_filtered</th>\n",
       "      <th>my_keywords_filtered</th>\n",
       "    </tr>\n",
       "  </thead>\n",
       "  <tbody>\n",
       "    <tr>\n",
       "      <th>0</th>\n",
       "      <td>singer michael buble weds tv star luisana lopi...</td>\n",
       "      <td>[married argentine, his grammy, ceremony, kiss...</td>\n",
       "      <td>[michael buble, luisana lopilato, pop star, tv...</td>\n",
       "      <td>[ceremony, mansion, south american, after tyin...</td>\n",
       "      <td>[south american concert tour lopilato, twitter...</td>\n",
       "      <td>[lopilato, argentine, buble weds tv star, conc...</td>\n",
       "      <td>[lopilato, buble, buenos, buenos aires, aires,...</td>\n",
       "      <td>[lilac chiffon dress, silver high heels, met l...</td>\n",
       "      <td>[lopilato, argentine, concert, buenos, pop, ac...</td>\n",
       "      <td>[lopilato, buble, buenos, buenos aires, aires,...</td>\n",
       "      <td>[ceremony, mansion, south american, luisana lo...</td>\n",
       "      <td>[michael buble, luisana lopilato, pop star, tv...</td>\n",
       "    </tr>\n",
       "    <tr>\n",
       "      <th>1</th>\n",
       "      <td>dolce and gabbana will not face trial after fr...</td>\n",
       "      <td>[masterminded an instantly recognisable highen...</td>\n",
       "      <td>[dolce, gabbana, fashion, tax dodge, fraud, tr...</td>\n",
       "      <td>[2005, couple, milanese fashion notion, giorgi...</td>\n",
       "      <td>[charges judge simone luerti ruled, world larg...</td>\n",
       "      <td>[dolce, design, brands, brand, branded, italia...</td>\n",
       "      <td>[dolce, gabbana, dolce gabbana, accused, judge...</td>\n",
       "      <td>[milanese designers, scandal dolce, charge dol...</td>\n",
       "      <td>[dolce, design, brands, brand, branded, italia...</td>\n",
       "      <td>[dolce, gabbana, dolce gabbana, accused, judge...</td>\n",
       "      <td>[couple, tax dodge, fraud, supersexy ads, dolc...</td>\n",
       "      <td>[dolce, gabbana, fashion, tax dodge, fraud, tr...</td>\n",
       "    </tr>\n",
       "  </tbody>\n",
       "</table>\n",
       "</div>"
      ],
      "text/plain": [
       "                                               texts  \\\n",
       "0  singer michael buble weds tv star luisana lopi...   \n",
       "1  dolce and gabbana will not face trial after fr...   \n",
       "\n",
       "                                      given_keywords  \\\n",
       "0  [married argentine, his grammy, ceremony, kiss...   \n",
       "1  [masterminded an instantly recognisable highen...   \n",
       "\n",
       "                                         my_keywords  \\\n",
       "0  [michael buble, luisana lopilato, pop star, tv...   \n",
       "1  [dolce, gabbana, fashion, tax dodge, fraud, tr...   \n",
       "\n",
       "                                                gold  \\\n",
       "0  [ceremony, mansion, south american, after tyin...   \n",
       "1  [2005, couple, milanese fashion notion, giorgi...   \n",
       "\n",
       "                                       rake_keywords  \\\n",
       "0  [south american concert tour lopilato, twitter...   \n",
       "1  [charges judge simone luerti ruled, world larg...   \n",
       "\n",
       "                                   textrank_keywords  \\\n",
       "0  [lopilato, argentine, buble weds tv star, conc...   \n",
       "1  [dolce, design, brands, brand, branded, italia...   \n",
       "\n",
       "                                      tfidf_keywords  \\\n",
       "0  [lopilato, buble, buenos, buenos aires, aires,...   \n",
       "1  [dolce, gabbana, dolce gabbana, accused, judge...   \n",
       "\n",
       "                              rake_keywords_filtered  \\\n",
       "0  [lilac chiffon dress, silver high heels, met l...   \n",
       "1  [milanese designers, scandal dolce, charge dol...   \n",
       "\n",
       "                          textrank_keywords_filtered  \\\n",
       "0  [lopilato, argentine, concert, buenos, pop, ac...   \n",
       "1  [dolce, design, brands, brand, branded, italia...   \n",
       "\n",
       "                             tfidf_keywords_filtered  \\\n",
       "0  [lopilato, buble, buenos, buenos aires, aires,...   \n",
       "1  [dolce, gabbana, dolce gabbana, accused, judge...   \n",
       "\n",
       "                                       gold_filtered  \\\n",
       "0  [ceremony, mansion, south american, luisana lo...   \n",
       "1  [couple, tax dodge, fraud, supersexy ads, dolc...   \n",
       "\n",
       "                                my_keywords_filtered  \n",
       "0  [michael buble, luisana lopilato, pop star, tv...  \n",
       "1  [dolce, gabbana, fashion, tax dodge, fraud, tr...  "
      ]
     },
     "execution_count": 281,
     "metadata": {},
     "output_type": "execute_result"
    }
   ],
   "source": [
    "df.head(2)"
   ]
  },
  {
   "cell_type": "markdown",
   "metadata": {},
   "source": [
    "#### Оценить метрики"
   ]
  },
  {
   "cell_type": "code",
   "execution_count": 274,
   "metadata": {},
   "outputs": [],
   "source": [
    "def metrics(gold_col, predicted_col):\n",
    "    precisions, recalls, f_scores = [], [], []\n",
    "    for gold, predicted in zip(gold_col, predicted_col):\n",
    "        precision = len(set(gold) & set(predicted)) / len(predicted)\n",
    "        recall = len(set(gold) & set(predicted)) / len(gold)\n",
    "        try:\n",
    "            f_score = 2 * (precision * recall) / (precision + recall)\n",
    "        except ZeroDivisionError:\n",
    "            f_score = 0\n",
    "        precisions.append(precision)\n",
    "        recalls.append(recall)\n",
    "        f_scores.append(f_score)\n",
    "        \n",
    "    return [mean(precisions), mean(recalls), mean(f_scores)]"
   ]
  },
  {
   "cell_type": "code",
   "execution_count": 291,
   "metadata": {},
   "outputs": [
    {
     "data": {
      "text/html": [
       "<style  type=\"text/css\" >\n",
       "#T_441b6_row0_col2,#T_441b6_row1_col2,#T_441b6_row2_col2{\n",
       "            background-color:  lightgreen;\n",
       "        }</style><table id=\"T_441b6_\" ><thead>    <tr>        <th class=\"blank level0\" ></th>        <th class=\"col_heading level0 col0\" >metric</th>        <th class=\"col_heading level0 col1\" >rake_nf</th>        <th class=\"col_heading level0 col2\" >rake_f</th>        <th class=\"col_heading level0 col3\" >textrank_nf</th>        <th class=\"col_heading level0 col4\" >textrank_f</th>        <th class=\"col_heading level0 col5\" >tfidf_nf</th>        <th class=\"col_heading level0 col6\" >tfidf_f</th>    </tr></thead><tbody>\n",
       "                <tr>\n",
       "                        <th id=\"T_441b6_level0_row0\" class=\"row_heading level0 row0\" >0</th>\n",
       "                        <td id=\"T_441b6_row0_col0\" class=\"data row0 col0\" >precision</td>\n",
       "                        <td id=\"T_441b6_row0_col1\" class=\"data row0 col1\" >0.234613</td>\n",
       "                        <td id=\"T_441b6_row0_col2\" class=\"data row0 col2\" >0.362106</td>\n",
       "                        <td id=\"T_441b6_row0_col3\" class=\"data row0 col3\" >0.332706</td>\n",
       "                        <td id=\"T_441b6_row0_col4\" class=\"data row0 col4\" >0.357269</td>\n",
       "                        <td id=\"T_441b6_row0_col5\" class=\"data row0 col5\" >0.247200</td>\n",
       "                        <td id=\"T_441b6_row0_col6\" class=\"data row0 col6\" >0.349172</td>\n",
       "            </tr>\n",
       "            <tr>\n",
       "                        <th id=\"T_441b6_level0_row1\" class=\"row_heading level0 row1\" >1</th>\n",
       "                        <td id=\"T_441b6_row1_col0\" class=\"data row1 col0\" >recall</td>\n",
       "                        <td id=\"T_441b6_row1_col1\" class=\"data row1 col1\" >0.382878</td>\n",
       "                        <td id=\"T_441b6_row1_col2\" class=\"data row1 col2\" >0.441043</td>\n",
       "                        <td id=\"T_441b6_row1_col3\" class=\"data row1 col3\" >0.115772</td>\n",
       "                        <td id=\"T_441b6_row1_col4\" class=\"data row1 col4\" >0.133007</td>\n",
       "                        <td id=\"T_441b6_row1_col5\" class=\"data row1 col5\" >0.247200</td>\n",
       "                        <td id=\"T_441b6_row1_col6\" class=\"data row1 col6\" >0.304688</td>\n",
       "            </tr>\n",
       "            <tr>\n",
       "                        <th id=\"T_441b6_level0_row2\" class=\"row_heading level0 row2\" >2</th>\n",
       "                        <td id=\"T_441b6_row2_col0\" class=\"data row2 col0\" >f-score</td>\n",
       "                        <td id=\"T_441b6_row2_col1\" class=\"data row2 col1\" >0.281640</td>\n",
       "                        <td id=\"T_441b6_row2_col2\" class=\"data row2 col2\" >0.382527</td>\n",
       "                        <td id=\"T_441b6_row2_col3\" class=\"data row2 col3\" >0.169096</td>\n",
       "                        <td id=\"T_441b6_row2_col4\" class=\"data row2 col4\" >0.191688</td>\n",
       "                        <td id=\"T_441b6_row2_col5\" class=\"data row2 col5\" >0.247200</td>\n",
       "                        <td id=\"T_441b6_row2_col6\" class=\"data row2 col6\" >0.324029</td>\n",
       "            </tr>\n",
       "    </tbody></table>"
      ],
      "text/plain": [
       "<pandas.io.formats.style.Styler at 0x197df680dd8>"
      ]
     },
     "execution_count": 291,
     "metadata": {},
     "output_type": "execute_result"
    }
   ],
   "source": [
    "metrics_df = pd.DataFrame({'metric': ['precision', 'recall', 'f-score'],\n",
    "                           'rake_nf': metrics(df.gold, df.rake_keywords),\n",
    "                           'rake_f': metrics(df.gold_filtered, df.rake_keywords_filtered),\n",
    "                           'textrank_nf': metrics(df.gold, df.textrank_keywords),\n",
    "                           'textrank_f': metrics(df.gold_filtered, df.textrank_keywords_filtered),\n",
    "                           'tfidf_nf': metrics(df.gold, df.tfidf_keywords),\n",
    "                           'tfidf_f': metrics(df.gold_filtered, df.tfidf_keywords_filtered)})\n",
    "metrics_df.set_index('metric')\n",
    "metrics_df.style.highlight_max(color = 'lightgreen', axis = 1)"
   ]
  },
  {
   "cell_type": "markdown",
   "metadata": {},
   "source": [
    "#### Описать ошибки"
   ]
  },
  {
   "cell_type": "markdown",
   "metadata": {},
   "source": [
    "Лучше всего по всем метрикам сработал метод rake + фильтры - 0.36 точность, 0.44 полнота, 0.38 f-score.  \n",
    "Дальше по точности идёт textrank с фильтрами и tfidf с фильтрами.  \n",
    "По полноте rake без фильтров и tf-idf с фильтрами.  \n",
    "По ф-мере tf-idf с фильтрами и rake без фильтров.\n",
    "\n",
    "Добавление фильтров для каждого из методов улучшило их результаты по всем метрикам\n",
    "\n",
    "Посмотрим внимательнее на все слова:"
   ]
  },
  {
   "cell_type": "code",
   "execution_count": 292,
   "metadata": {},
   "outputs": [],
   "source": [
    "pd.set_option('display.max_colwidth', None)"
   ]
  },
  {
   "cell_type": "code",
   "execution_count": 293,
   "metadata": {
    "collapsed": true
   },
   "outputs": [
    {
     "data": {
      "text/html": [
       "<div>\n",
       "<style scoped>\n",
       "    .dataframe tbody tr th:only-of-type {\n",
       "        vertical-align: middle;\n",
       "    }\n",
       "\n",
       "    .dataframe tbody tr th {\n",
       "        vertical-align: top;\n",
       "    }\n",
       "\n",
       "    .dataframe thead th {\n",
       "        text-align: right;\n",
       "    }\n",
       "</style>\n",
       "<table border=\"1\" class=\"dataframe\">\n",
       "  <thead>\n",
       "    <tr style=\"text-align: right;\">\n",
       "      <th></th>\n",
       "      <th>texts</th>\n",
       "      <th>given_keywords</th>\n",
       "      <th>my_keywords</th>\n",
       "      <th>gold</th>\n",
       "      <th>rake_keywords</th>\n",
       "      <th>textrank_keywords</th>\n",
       "      <th>tfidf_keywords</th>\n",
       "      <th>rake_keywords_filtered</th>\n",
       "      <th>textrank_keywords_filtered</th>\n",
       "      <th>tfidf_keywords_filtered</th>\n",
       "      <th>gold_filtered</th>\n",
       "      <th>my_keywords_filtered</th>\n",
       "    </tr>\n",
       "  </thead>\n",
       "  <tbody>\n",
       "    <tr>\n",
       "      <th>0</th>\n",
       "      <td>singer michael buble weds tv star luisana lopilato canadian pop star michael buble kisses his bride argentine tv actress luisana lopilato after their civil wedding ceremony in buenos aires argentina thursday march ap pisarenko buenos aires argentina ap canadian pop star michael buble married argentine tv actress luisana lopilato in a civil ceremony on thursday the singer of crazy love and his argentine sweetheart posed for a mob of fans after tying the knot at a civil registry in downtown buenos aires she wore a lilac chiffon dress with silver high heels and buble wore a sharp gray suit as he leaned down for a smooch then lopilato tossed a bouquet of purple orchids into the crowd as some fans threw rice and red rose petals and a young woman shouted i love you michael buble won his grammy last month for traditional pop vocal album and is one of north america concert entertainers lopilato made her name as a model and in argentine sitcoms and soap operas including rebel way little girls married with children and pirate soul the couple plan a full ceremony with guests next month at a mansion outside buenos aires and another wedding in vancouver in april they have homes in canada los angeles and buenos aires province buble dated british actress emily blunt for several years before he met lopilato in during a south american concert tour lopilato was romantically involved before with tennis player juan monaco with more than fans and followers in facebook and twitter lopilato sent messages throughout the day thanking her family and the media how beautiful it all was she wrote</td>\n",
       "      <td>[married argentine, his grammy, ceremony, kisses, messages, romantically, vocal, argentine, woman, buble dated, thanking, wedding ceremony, canadian, michael, bouquet, vocal album, crazy love, canadian pop, argentina ap, mansion, facebook, rose, argentine sweetheart, month, registry, south american, after tying, downtown, beautiful, traditional, grammy, vancouver, chiffon dress, grammywinning, family, lopilato made, north, bride argentine tv actress, media, twitter, met, high]</td>\n",
       "      <td>[michael buble, luisana lopilato, pop star, tv actress, model, wedding, ceremony, civil registry, buenos aires, fans]</td>\n",
       "      <td>[ceremony, mansion, south american, after tying, luisana lopilato, north, bride argentine tv actress, thanking, michael, argentina ap, family, canadian, argentine, grammy, twitter, registry, pop star, model, wedding ceremony, canadian pop, month, tv actress, buenos aires, fans, married argentine, rose, wedding, bouquet, buble dated, his grammy, lopilato made, messages, media, vocal album, woman, argentine sweetheart, romantically, vocal, traditional, downtown, facebook, grammywinning, high, civil registry, met, michael buble, crazy love, kisses, beautiful, chiffon dress, vancouver]</td>\n",
       "      <td>[south american concert tour lopilato, twitter lopilato sent messages throughout, traditional pop vocal album, tennis player juan monaco, mansion outside buenos aires, downtown buenos aires, lilac chiffon dress, silver high heels, sharp gray suit, red rose petals, young woman shouted, grammy last month, guests next month, canada los angeles, argentine sweetheart posed, fans threw rice, civil wedding ceremony, lopilato tossed, met lopilato, civil ceremony, argentine sitcoms, another wedding, civil registry, full ceremony, purple orchids, michael buble, pirate soul, couple plan, several years, romantically involved, day thanking, crazy love, buble wore, fans, wore, love, thursday, singer, mob, tying, knot, leaned, smooch, bouquet, crowd, one, name, model, children, vancouver, april, homes, followers, facebook, family, media, beautiful, wrote]</td>\n",
       "      <td>[lopilato, argentine, buble weds tv star, concert, buenos, pop, actress, ap, wedding, high, threw, chiffon, woman, rose, los, gray, juan]</td>\n",
       "      <td>[lopilato, buble, buenos, buenos aires, aires, argentine, michael buble, michael, luisana lopilato, actress, fans, tv, luisana, ceremony, civil, pop, star, tv actress, tv actress luisana, actress luisana, actress luisana lopilato, love, lopilato civil, argentina, wedding, canadian, canadian pop, canadian pop star, luisana lopilato civil, wore, buenos aires argentina, aires argentina, married, pop star michael, pop star, star michael, concert, star michael buble, argentine tv actress, argentine tv, ap, singer, month, thursday, made name model, traditional, traditional pop, traditional pop vocal, silver high, homes canada los, posed]</td>\n",
       "      <td>[lilac chiffon dress, silver high heels, met lopilato, civil ceremony, argentine sitcoms, civil registry, full ceremony, purple orchids, michael buble, pirate soul, couple plan, several years, crazy love, buble wore, fans, wore, love, thursday, singer, mob, knot, leaned, smooch, bouquet, crowd, name, model, children, vancouver, april, homes, followers, facebook, family, media, beautiful]</td>\n",
       "      <td>[lopilato, argentine, concert, buenos, pop, actress, ap, wedding, high, threw, chiffon, woman, los, gray, juan]</td>\n",
       "      <td>[lopilato, buble, buenos, buenos aires, aires, argentine, michael buble, michael, luisana lopilato, actress, fans, tv, luisana, ceremony, civil, pop, star, tv actress, tv actress luisana, actress luisana, actress luisana lopilato, love, argentina, wedding, canadian, canadian pop, wore, married, pop star michael, pop star, star michael, concert, star michael buble, argentine tv, ap, singer, month, thursday, traditional, traditional pop, posed]</td>\n",
       "      <td>[ceremony, mansion, south american, luisana lopilato, north, michael, family, canadian, argentine, grammy, twitter, registry, pop star, model, wedding ceremony, canadian pop, month, tv actress, buenos aires, fans, married argentine, wedding, bouquet, messages, media, vocal album, woman, argentine sweetheart, vocal, traditional, downtown, facebook, high, civil registry, met, michael buble, crazy love, kisses, beautiful, chiffon dress, vancouver]</td>\n",
       "      <td>[michael buble, luisana lopilato, pop star, tv actress, model, wedding, ceremony, civil registry, buenos aires, fans]</td>\n",
       "    </tr>\n",
       "    <tr>\n",
       "      <th>1</th>\n",
       "      <td>dolce and gabbana will not face trial after fraud case is thrown out milan judge rules there is not enough evidence to support accusations against the italian designers domenico dolce and stefano gabbana will no longer have to worry about what to wear in court italian fashion most powerful design duo have been told they will not stand trial for an alleged tax dodge after a judge in milan threw out the case against them at a preliminary hearing the pair have built one of the world largest fashion brands beloved of celebrities such as madonna and kylie they were accused of fraud of around as part of an inquiry into reports the company had failed to declare in revenues both designers dolce brother alfonso and three other senior members of the company were accused but all denied the charges judge simone luerti ruled there was not enough evidence to take the milanese designers to trial and closed the file on other people who had been under investigation as well the reported allegation was that dolce gabbana created a company in luxembourg in and which was given control of the group two brands the main label and its younger line d g so avoiding italian taxes it is unlikely that sales of their brand of clothes will have been affected by this near brush with scandal dolce and gabbana are a superstar partnership there are stores in countries who have masterminded an instantly recognisable they are central to the milanese fashion notion of more is more alongside ads the brand success has been based on its ability to sell suiting and glitzy party dresses alongside more affordable branded items including jeans perfume sunglasses and makeup this is not the first controversy dolce and gabbana have weathered three years ago they came under fire over an advertisement that was accused of exalting gang rape it showed a woman being held down on the ground by a man while other men looked on in giorgio armani accused the couple of having copied a design for quilted trousers a charge dolce and gabbana contemptuously dismissed</td>\n",
       "      <td>[masterminded an instantly recognisable highend eurolook, milan, italian fashion's most powerful design, tshirts jeans perfume sunglasses, dolce and gabbana, judge simone luerti, stefano gabbana, milan judge rules, milanese fashion notion, madonna and kylie, preliminary hearing, giorgio armani, dolce's brother alfonso, italian designers domenico dolce, 2004, 2005, luxembourg, welltailored suiting, masterminded, declare 840m, central, supersexy ads, support accusations, moltosexy clothes, revenues, dolce, celebrities, instantly recognisable highend eurolook, main label, milan judge, inquiry, judge, trial, kylie, gabbana, advertisement, reported allegation, stores, design, avoiding italian taxes, giorgio armani accused, senior members, control, copied, company, italian fashion's, madonna, exalting gang rape, evidence, gabbana created, world's largest fashion brands, milanese designers, glitzy party dresses, younger line dg, couple, alleged 1bn 880m tax dodge, around 1bn, quilted trousers, 34 countries, three years ago, group's two brands, powerful design]</td>\n",
       "      <td>[dolce, gabbana, fashion, tax dodge, fraud, trial, designers, dolce and gabbana]</td>\n",
       "      <td>[2005, couple, milanese fashion notion, giorgio armani accused, tax dodge, exalting gang rape, fraud, supersexy ads, dolce, control, younger line dg, company, welltailored suiting, madonna, around 1bn, masterminded, preliminary hearing, stefano gabbana, stores, world's largest fashion brands, milan, masterminded an instantly recognisable highend eurolook, tshirts jeans perfume sunglasses, revenues, italian fashion's most powerful design, instantly recognisable highend eurolook, advertisement, fashion, designers, main label, reported allegation, trial, milanese designers, inquiry, declare 840m, dolce and gabbana, milan judge rules, dolce's brother alfonso, powerful design, gabbana created, copied, support accusations, glitzy party dresses, milan judge, group's two brands, judge simone luerti, gabbana, 34 countries, luxembourg, kylie, madonna and kylie, moltosexy clothes, alleged 1bn 880m tax dodge, giorgio armani, senior members, three years ago, italian fashion's, celebrities, 2004, avoiding italian taxes, quilted trousers, judge, design, italian designers domenico dolce, evidence, central]</td>\n",
       "      <td>[charges judge simone luerti ruled, world largest fashion brands beloved, glitzy party dresses alongside, weathered three years ago, designers dolce brother alfonso, italian designers domenico dolce, court italian fashion, group two brands, avoiding italian taxes, milanese fashion notion, alleged tax dodge, exalting gang rape, first controversy dolce, milan judge rules, powerful design duo, gabbana contemptuously dismissed, dolce gabbana created, giorgio armani accused, milanese designers, alongside ads, scandal dolce, charge dolce, milan threw, enough evidence, support accusations, preliminary hearing, built one, senior members, reported allegation, given control, main label, younger line, near brush, superstar partnership, instantly recognisable, sell suiting, men looked, quilted trousers, stefano gabbana, face trial, stand trial, brand success, fraud case, judge, dolce, three, design, gabbana, trial, case, accused, fraud, brand, thrown, longer, worry, wear, told, pair, celebrities, madonna, kylie, around, part, inquiry, reports, company, failed, declare, revenues, denied, take, closed, file, people, investigation, well, luxembourg, g, unlikely, sales, clothes, affected, stores, countries, masterminded, central, based, ability, makeup, came, fire, advertisement, showed, woman, held, ground, man, couple, copied]</td>\n",
       "      <td>[dolce, design, brands, brand, branded, italian designers, fashion, gabbana, judge, trial, gang, tax, taxes, accusations, accused, armani, alongside, party dresses, perfume]</td>\n",
       "      <td>[dolce, gabbana, dolce gabbana, accused, judge, company, designers, trial, italian, fashion, milan, fraud, brands, milanese, design, enough evidence, brand, case, alongside, evidence, enough, three, scandal dolce, created, court italian fashion, court italian, court, copied, scandal, countries masterminded instantly, scandal dolce gabbana, countries masterminded, copied design quilted, couple copied design, countries, couple copied, controversy dolce gabbana, copied design, ability, controversy dolce, senior members, showed, company accused, company accused denied, company failed, company failed declare, company luxembourg, company luxembourg given, senior members company, senior, controversy, sell suiting glitzy, sell suiting, sell, contemptuously, contemptuously dismissed, control group, created company luxembourg, control group two, created company, ruled enough evidence, sales brand clothes, sales brand, revenues designers, revenues, dismissed]</td>\n",
       "      <td>[milanese designers, scandal dolce, charge dolce, enough evidence, support accusations, preliminary hearing, senior members, reported allegation, given control, main label, superstar partnership, quilted trousers, stefano gabbana, face trial, stand trial, brand success, fraud case, judge, dolce, design, gabbana, trial, case, accused, fraud, brand, thrown, longer, worry, wear, told, pair, celebrities, madonna, kylie, part, inquiry, reports, company, declare, revenues, file, people, investigation, luxembourg, g, unlikely, sales, clothes, affected, stores, countries, masterminded, central, based, ability, makeup, fire, advertisement, woman, held, ground, man, couple, copied]</td>\n",
       "      <td>[dolce, design, brands, brand, branded, italian designers, fashion, gabbana, judge, trial, gang, tax, taxes, accusations, accused, armani, party dresses, perfume]</td>\n",
       "      <td>[dolce, gabbana, dolce gabbana, accused, judge, company, designers, trial, italian, fashion, milan, fraud, brands, milanese, design, enough evidence, brand, case, evidence, scandal dolce, created, court, copied, scandal, scandal dolce gabbana, countries, controversy dolce gabbana, copied design, ability, controversy dolce, senior members, company luxembourg, senior, controversy, sell, control group, created company, sales brand, revenues designers, revenues, dismissed]</td>\n",
       "      <td>[couple, tax dodge, fraud, supersexy ads, dolce, control, company, welltailored suiting, madonna, masterminded, preliminary hearing, stefano gabbana, stores, milan, revenues, advertisement, fashion, designers, main label, reported allegation, trial, milanese designers, inquiry, declare 840m, dolce and gabbana, dolce's brother alfonso, powerful design, copied, support accusations, milan judge, judge simone luerti, gabbana, luxembourg, kylie, moltosexy clothes, giorgio armani, senior members, italian fashion's, celebrities, quilted trousers, judge, design, evidence, central]</td>\n",
       "      <td>[dolce, gabbana, fashion, tax dodge, fraud, trial, designers, dolce and gabbana]</td>\n",
       "    </tr>\n",
       "    <tr>\n",
       "      <th>2</th>\n",
       "      <td>plus size fashion size clothes can look stylish if you ever tried to tug a poorly fitting pair of size jeans over your hips in a changing room before collapsing in a dejected heap on the floor you are not alone one in four british women is now wearing a size or above but as radio presenter jenni murray admitted in this paper last week it is almost impossible to find clothes that are both big and beautiful so is hiding away in shapeless sacks the only solution it most certainly is not as a fashion stylist who has dressed celebrities of all shapes and sizes i discovered that every and i mean every woman can look good if you know where to look there are some fantastic companies both on the high street and on the internet that have finally woken up to the fact that curvier women do just want to crawl away and hide my number one rule is to ditch the belief that means frumpy brave the high street and politely of course demand to be noticed there are plenty of chains that go up to your size from marks spencer and evans to debenhams new look and monsoon if you ca face the tyranny of badly lit dressing rooms there are countless online stores that you can peruse from the comfort of your living room simply be marisota duo anna scholz beige plus and ann harvey are a few of the best and even trendy boutique has launched a label asos curve so here my pick of what on offer as worn by our gorgeous model nina bust waist hips enlarge highlight your body as you would your face put the darkest colour on your heaviest area or use colour to create a slim panel down the centre of your outfit this can be done with a dark cardigan over a lighter shift dress but this flattering frock does the work for you camel and black dress star by julien macdonald at debenhams jacket dorothy perkins ring stack daisy eve at evans shoes enlarge you can wear stripes capes and trousers it just about wearing them well all stripes work whatever your dress size if they broken up with layering team them with darker trousers and try a cardigan on top or wear under a fun and playful cape like this one which hides larger hips cape and jeans both asos curve striped top new look necklace sunglasses miu miu at david clulow shoes ted baker bag enlarge this season catwalk featured a lot of print and there no reason for girls to be left out prints are a nifty way to disguise lumps and bumps tall girls can pull off large bold prints but something subtler like this suits everyone break up the print with jackets or cardigans in plain colours china print long dress evans collection at evans white shrug evans necklace daisy eve at evans sandals new look enlarge do you have slim legs but worry about your hips and thighs you can still do fitted trousers like these combats simply layer longer pieces over the top to disguise problem areas this lightweight parka is thin enough to wear in summer and completes the combat look parka trousers indigo collection at marks spencer yellow sleeveless shirt new look belt dorothy perkins scarf epice at fenwick earrings part of a multipack daisy eve at evans ring lola rose shoe boots enlarge get out of the leggings rut harem pants are a alternative to leggings you have to be fearless to wear them as there will still be volume around your hips and bum that part of the silhouette but if you keep the top half short you emphasise your waist if you concerned about the jersey fabric revealing wobbly bits wear control tights to smooth them out white jacket anna scholz blush lace top limited collection at marks spencer trousers monsoon necklace lola rose earrings part of a multipack daisy eve at evans shoes enlarge this is a fantastic shape if you got a big bum and it everywhere at the moment thanks to mad men this dress has a lovely neckline which helps slim a big bust and volume in the skirt to skim over your hips and thighs with a dress this perfect you can get away with a daring pattern like these thick stripes on the bottom half red dress per una at marks spencer cardigan monsoon shoes the basics trousers should be ideally with a smooth front and the zip at the side sleeves are either elbow or length keep your eye out for to wear over strappy tops or dresses avoid cap sleeves as these cut your arm at the widest point necklines are more flattering when lower but you can cover up with a jersey camisole up to size at marks spencer skirts should sit smoothly across the front a at the knee will give a balancing effect dresses should have a back zip not a side one diagonal ruching across the body is always slimming and do forget accessories go for big bold pieces daisy eve at evans do an excellent range with bangles and rings in all sizes lola rose has a great range of stretch bangles use long necklaces has a good selection and scarves to draw the eye down your body shoes evans has a great range of shoes up to size and duo has boot styles in calf widths up to and an amazing selection of footwear in three width fittings up to size nine good underwear this is essential in order to achieve the smoothest sleekest shape you can simply be stocks gok wan s excellent shapewear and a good selection of large bras that look feminine pictures joel anderson model nina hair and katie reedman</td>\n",
       "      <td>[earrings 650, asoscom, 28 indigo collection, heaviest, shoes, essential, 24, 30, 5, 18, excellent, daring, evans, look, wearing, amazing, body, monsoon, capes, impossible, enlarge, lumps, radio 4, demand, control, belief, fashionforward, spencer skirts, 3950, 120, lightweight, 75, 59, frumpy, lighter, sleekest, 125 bulatticouk, girls, shapeless, ann harvey, changing, subtler, look, jenni murray, makeup, debenhams, leggings rut, 1999 new, asos, celebrities, 123 miu, don't forget accessories, fashion, range, layering, finally, jacket 40, feminine, beautiful, fantastic, broken, 899, necklaces, stores, the basics trousers, woman, 48 monsoon, combat, necklines, clulow, cardigan, collapsing, mad men, footwear, 1950, spencer, marisota, gorgeous, highlight, mean, 8995, fittings, good underwear, 750, 650, 42 simplybecouk, summer, worry, curvier, thighs, sunglasses, trousers, murray, nina, dorothy perkins, fitting, leggings, david clulow, vivaladivacom, eve, ...]</td>\n",
       "      <td>[fashion, plus size, clothes, size, plus-size, hips, thighs]</td>\n",
       "      <td>[body, sleeves, girls, marisota, fantastic companies, jenni murray, 5, stylish, daring, marisota duo anna scholz beige plus, 59, control, 42 simplybecouk, clulow, wearing, jacket 40, ann harvey, necklines, don't forget accessories, broken, fantastic, 48 monsoon, 75, highlight, makeup, fashion, mean, 899, 24, impossible, earrings 650, dorothy perkins, fitting, fashionforward, range, british women, 1950, fittings, murray, hips, 650, footwear, evans sandals, 30, asoscom, eve, lightweight, changing, leggings rut, nina, plus-size, plus size, shoes, size fashion, lighter, 3950, debenhams, david clulow, clothes, look, collapsing, daisy, excellent, sunglasses, dejected, belief, 1999 new, 125 bulatticouk, combat, essential, lumps, 120, spencer, street, spencer skirts, stores, lola rose, cardigan, finally, worry, size, 18, vivaladivacom, sleekest, good underwear, radio 4, anna scholz, 8995, trousers, accessories, marks, 123 miu, asos, layering, monsoon, camel, shapeless, necklace, 28 indigo collection, curvier, ...]</td>\n",
       "      <td>[radio presenter jenni murray admitted, combats simply layer longer pieces, stretch bangles use long necklaces, side one diagonal ruching across, big bold pieces daisy eve, evans sandals new look enlarge, plus size fashion size clothes, badly lit dressing rooms, marks spencer cardigan monsoon shoes, leggings rut harem pants, dresses avoid cap sleeves, hides larger hips cape, size nine good underwear, multipack daisy eve, sit smoothly across, marks spencer skirts, debenhams new look, playful cape like, balancing effect dresses, evans shoes enlarge, poorly fitting pair, paper last week, means frumpy brave, countless online stores, even trendy boutique, label asos curve, season catwalk featured, something subtler like, suits everyone break, daring pattern like, widest point necklines, three width fittings, stocks gok wan, number one rule, four british women, living room simply, large bold prints, disguise problem areas, smoothest sleekest shape, mean every woman, lighter shift dress, black dress star, bumps tall girls, fitted trousers like, fenwick earrings part, forget accessories go, sizes lola rose, top half short, stripes work whatever, body shoes evans, wear stripes capes, marks spencer, side sleeves, find clothes, fashion stylist, use colour, look good, alone one, dark cardigan, thick stripes, look stylish, changing room, curvier women, disguise lumps, fantastic shape, big bust, good selection, large bras, dress size, ever tried, dejected heap, almost impossible, hiding away, shapeless sacks, dressed celebrities, fantastic companies, high street, finally woken, crawl away, course demand, ca face, ann harvey, face put, darkest colour, heaviest area, slim panel, julien macdonald, layering team, darker trousers, nifty way, slim legs, lightweight parka, thin enough, big bum, moment thanks, mad men, lovely neckline, helps slim, get away, basics trousers, ...]</td>\n",
       "      <td>[dressed, dress, dresses, dressing rooms, look, trousers, shoes, shoe, evans, size, sizes, necklace, necklaces, enlarge, spencer, daisy, fitting, fitted, fittings, colour, colours, striped, slim, slimming, room, cape like, wear stripes capes, bold, hips, women, online, frumpy, gok, tall, catwalk, jacket, jackets, new, long, wearing, monsoon, ring, rings, lola, model nina bust, good, excellent range, neckline, point necklines, layering, layer, anna scholz, big, use, presenter]</td>\n",
       "      <td>[evans, size, look, shoes, hips, enlarge, dress, daisy eve, daisy eve evans, marks, marks spencer, spencer, eve evans, daisy, wear, trousers, eve, big, new look, like, top, good, lola, range, print, lola rose, slim, collection, necklace, selection, cardigan, monsoon, simply, stripes, new, body, away, one, part, model nina, sleeves, evans shoes, evans shoes enlarge, pieces, scholz, women, disguise, flattering, anna scholz, excellent, work, curve, miu, jersey, nina, half, bold, wearing, multipack daisy eve, white, multipack daisy, multipack, front, size marks, thighs, size marks spencer, part multipack daisy, good selection, perkins, street, sizes, shoes enlarge, bangles, dorothy, dorothy perkins, plus, eye, cape, anna, part multipack, collection marks, use, debenhams, jacket, great range, bum, ring, room, large, earrings, earrings part, earrings part multipack, high street, hips thighs, volume, shape, leggings, eve evans shoes, asos curve, zip side, ...]</td>\n",
       "      <td>[label asos curve, side sleeves, find clothes, fashion stylist, dark cardigan, thick stripes, disguise lumps, fantastic shape, big bust, good selection, large bras, dress size, dejected heap, shapeless sacks, fantastic companies, high street, course demand, ann harvey, slim panel, julien macdonald, darker trousers, nifty way, slim legs, lightweight parka, big bum, moment thanks, mad men, basics trousers, strappy tops, jersey camisole, excellent range, great range, boot styles, calf widths, amazing selection, excellent shapewear, katie reedman, size jeans, monsoon, bangles, shoes, evans, cardigan, look, big, leggings, size, sizes, work, trousers, girls, prints, part, dress, body, top, hips, jeans, bum, smooth, volume, zip, front, wear, tug, floor, beautiful, solution, shapes, discovered, internet, fact, want, hide, ditch, belief, noticed, plenty, chains, tyranny, peruse, comfort, best, launched, pick, offer, worn, create, centre, outfit, done, camel, broken, try, fun, lot, print, reason, left, pull, ...]</td>\n",
       "      <td>[dressed, dress, dresses, look, trousers, shoes, shoe, evans, size, sizes, necklace, necklaces, enlarge, spencer, daisy, fitting, fitted, fittings, colour, colours, slim, room, bold, hips, women, online, frumpy, gok, tall, catwalk, jacket, jackets, new, monsoon, ring, rings, lola, model nina bust, good, excellent range, neckline, point necklines, layer, anna scholz, big, use, presenter]</td>\n",
       "      <td>[evans, size, look, shoes, hips, enlarge, dress, daisy eve, marks, spencer, eve evans, daisy, wear, trousers, eve, big, new look, top, good, lola, range, print, slim, collection, necklace, selection, cardigan, monsoon, stripes, new, body, part, model nina, sleeves, evans shoes, pieces, scholz, women, disguise, anna scholz, excellent, work, curve, miu, jersey, nina, half, bold, white, multipack daisy, multipack, front, size marks, thighs, part multipack daisy, good selection, perkins, street, sizes, bangles, dorothy, dorothy perkins, eye, cape, anna, part multipack, collection marks, use, debenhams, jacket, great range, bum, ring, room, large, earrings, earrings part, high street, hips thighs, volume, shape, leggings, asos curve, zip side, asos, colour, waist, zip, fantastic, prints, smooth, bust, parka, jeans, great, dresses, clothes, model, duo, side]</td>\n",
       "      <td>[body, sleeves, girls, marisota, fantastic companies, jenni murray, stylish, control, 42 simplybecouk, clulow, jacket 40, ann harvey, necklines, broken, fantastic, 48 monsoon, highlight, makeup, fashion, mean, impossible, dorothy perkins, fitting, fashionforward, range, british women, fittings, murray, hips, footwear, evans sandals, asoscom, eve, lightweight, leggings rut, nina, plus-size, plus size, shoes, size fashion, lighter, debenhams, david clulow, clothes, look, daisy, excellent, sunglasses, dejected, belief, 125 bulatticouk, combat, essential, lumps, spencer, street, spencer skirts, stores, cardigan, worry, size, vivaladivacom, sleekest, good underwear, radio 4, anna scholz, trousers, accessories, marks, 123 miu, asos, monsoon, camel, shapeless, necklace, curvier, leggings, feminine, subtler, gorgeous, summer, woman, thighs, enlarge, mad men, capes, frumpy, demand, celebrities, miu miu, evans, beautiful, heaviest, necklaces]</td>\n",
       "      <td>[fashion, plus size, clothes, size, plus-size, hips, thighs]</td>\n",
       "    </tr>\n",
       "    <tr>\n",
       "      <th>3</th>\n",
       "      <td>radioactive boars in germany a legacy of chernobyl radioactive boars a quarter century after the chernobyl nuclear disaster in the soviet union carried a cloud of radiation across europe these animals are radioactive enough that people are urged not to eat them berlin for a look at just how long radioactivity can hang around consider germany wild boars a quarter century after the chernobyl nuclear disaster in the soviet union carried a cloud of radiation across europe these animals are radioactive enough that people are urged not to eat them and the mushrooms the pigs dine on are fit for consumption either germany experience shows what could await japan if the problems at the fukushima plant get any worse nuclear power around the world the german boars roam in forests nearly miles kilometers from chernobyl yet the amount ofradioactive within their tissue often registers dozens of times beyond the recommended limit for consumption and thousands of times above normal we still feel the consequences of chernobyl fallout here said christian kueppers a radiation expert at germany institute for applied ecology in freiburg the contamination wo go away any time soon with cesium being roughly years theradioactivity will only slightly decrease in the coming years cesium can build up in the body and high levels are thought to be a risk for various other cancers still researchers who studied chernobyl could not find an increase in cancers that might be linked to cesium cesium also accumulates over time in the soil which makes boars most susceptible they snuffle through forest soil with their snouts and feed on the kinds of mushroom that tend to store radioactivity environment ministry spokesman thomas hagbeck said the problem is so common that now all wild boars bagged by hunters in the affected regions have to be checked for radiation government compensation to hunters whose quarry has to be destroyed has added up to over the past months hagbeck said it really sad when you have to throw out meat that is normally extraordinarily tasty said joachim reddemann managing director of bavaria state hunting association thousands of wild boars killed in southern germany every year register unacceptable levels of radiation it calculated in becquerels a measurement of radiation given off anything beyond becquerels per kilogram is recommended according to germany federal office for radiation protection normal meat has an average contamination of becquerel per kilogram and a german would normally consume about becquerels per year from plants and dairy products the agency said about percent of the boars hunted are above the legal radioactivity limit reddemann said and the government radiation protection office says some mushrooms have registered up to times the legal cesium limit even farther away in france there is still soil contamination though levels have dropped significantly it is now rare to find unsafe levels of cesium in boars and mushrooms said radiation expert philippe renaud of france institute of radiation protection and nuclear safety in austria too traces of radioactive cesium remain in the soil along with boars and mushrooms deer have been affected some testing at five times the legal limit that country environment agency says japan fukushima plant has so far not leaked nearly as much radiation as chernobyl but authorities there have banned the sale of milk spinach cabbage and other products from surrounding regions as a precaution european officials insist that occasionally eating contaminated boar meat or mushrooms does not pose an immediate health risk public health agencies are typically conservative in setting limits for radioactivity in food eating grams of mushrooms tested seven times above the legal cesium limit for example would amount to the same exposure as the altitude radiation taken in during a flight according to germany office for radiation protection in austria authorities say that eating the unlikely amount of pounds of contaminated boar meat that is times above the legal cesium limit would amount to of an adult normal annual radiation intake by food however the possibility of exposure will not be going away anytime soon we assume that wild game will still be similarly affected until and then very slowly recede said reddemann of bavaria hunting association the problem will certainly still be around for the next years and chernobyl will still be an issue for our children and grandchildren nuclear power around the world</td>\n",
       "      <td>[typically conservative, snouts, radioactivity, nuclear safety, grandchildren nuclear, urged, managing director, snuffle, bagged, registers dozens, chernobyl, hunting association, applied ecology, extraordinarily, mushrooms, consumption, france's institute of radiation protection, normal, amount, affected, similarly affected, occasionally, possibility, measurement, institute, quarter, hunters, theradioactivity, consume, germany's office, freiburg, cancers, registered, increase, radioactive, contamination, altitude, calculated, becquerels, consequences, animals, radiation, radiation protection, recommended, susceptible, precaution, destroyed, milk spinach cabbage, austria, twothirds, unsafe, forests, austria authorities, contaminated, environment, hunting, exposure, cesium, unacceptable, problem, environment ministry, soviet union, compensation, nuclear, accumulates, experience, immediate, roughly, limit, plant, german, federal, radiation, meat, assume]</td>\n",
       "      <td>[chernobyl, cesium, meat, becquerels, wild boars, mushrooms, contamination, radioactivity, health, germany, radiation, hunting]</td>\n",
       "      <td>[accumulates, quarter, snouts, nuclear, compensation, grandchildren nuclear, calculated, forests, cesium, bagged, immediate, amount, snuffle, freiburg, unsafe, environment ministry, affected, occasionally, similarly affected, hunters, applied ecology, unacceptable, typically conservative, roughly, increase, environment, experience, wild boars, possibility, recommended, becquerels, germany's office, cancers, soviet union, registers dozens, france's institute of radiation protection, managing director, contamination, radioactivity, theradioactivity, plant, austria, contaminated, austria authorities, mushrooms, nuclear safety, extraordinarily, urged, radiation protection, destroyed, registered, chernobyl, consume, federal, institute, hunting association, germany, consumption, normal, assume, german, radiation, meat, milk spinach cabbage, precaution, problem, measurement, altitude, consequences, susceptible, health, twothirds, exposure, animals, radioactive, limit, hunting]</td>\n",
       "      <td>[adult normal annual radiation intake, consumption either germany experience shows, bavaria state hunting association thousands, occasionally eating contaminated boar meat, anything beyond becquerels per kilogram, government radiation protection office says, legal radioactivity limit reddemann said, legal cesium limit would amount, still soil contamination though levels, slowly recede said reddemann, tissue often registers dozens, precaution european officials insist, contamination wo go away, past months hagbeck said, german would normally consume, forests nearly miles kilometers, going away anytime soon, worse nuclear power around, grandchildren nuclear power around, cesium cesium also accumulates, radiation protection normal meat, bavaria hunting association, mushrooms tested seven times, contaminated boar meat, becquerel per kilogram, example would amount, legal cesium limit, radiation government compensation, becquerels per year, said christian kueppers, amount ofradioactive within, soviet union carried, could await japan, fukushima plant get, milk spinach cabbage, germany federal office, radiation across europe, altitude radiation taken, german boars roam, roughly years theradioactivity, coming years cesium, food eating grams, chernobyl nuclear disaster, radioactive cesium remain, find unsafe levels, studied chernobyl could, hunters whose quarry, wild boars bagged, wild boars killed, cancers still researchers, legal limit, austria authorities say, chernobyl radioactive boars, radiation protection, germany office, average contamination, agency said, recommended limit, high levels, times beyond, unlikely amount, nuclear safety, leaked nearly, radiation expert, radiation given, much radiation, long radioactivity, wild game, next years, radioactive boars, germany institute, time soon, forest soil, soil along, food however, radioactive enough, still feel, certainly still, chernobyl yet, chernobyl fallout, makes boars, boars hunted, quarter century, pigs dine, applied ecology, slightly decrease, really sad, recommended according, dropped significantly, surrounding regions, typically conservative, setting limits, flight according, five times, mushrooms deer, affected regions, similarly affected, dairy products, france institute, normal, ...]</td>\n",
       "      <td>[radiation, radioactive boars, said, nuclear, germany, radioactivity, eating contaminated boar, normal, normally, contamination, years, limit, limits, eat, chernobyl, year register, cesium, away, hunting, hunted, health, levels, says, say, nearly, environment, office, reddemann, spinach, union, agency, agencies, japan, registers, registered, affected regions, european]</td>\n",
       "      <td>[radiation, boars, cesium, chernobyl, germany, limit, mushrooms, said, legal, radioactive, nuclear, still, times, soil, times legal, wild, radioactivity, amount, meat, radiation protection, protection, reddemann, normal, eating, legal cesium, office, times legal cesium, becquerels, contamination, wild boars, cesium limit, legal cesium limit, around, levels, away, would, per, nuclear power, hagbeck, hagbeck said, recommended, radiation across, association, radiation across europe, enough people, nuclear disaster soviet, boars mushrooms, nuclear disaster, france, enough people urged, radiation expert, beyond, per kilogram, around world, expert, exposure, bavaria, radioactive boars, cloud radiation across, cloud radiation, cloud, government, thousands, agency, german, office radiation protection, europe animals radioactive, europe animals, europe, office radiation, fukushima plant, fukushima, nuclear power around, boars quarter century, boars quarter, chernobyl nuclear disaster, chernobyl nuclear]</td>\n",
       "      <td>[radiation government compensation, fukushima plant get, milk spinach cabbage, legal limit, radiation protection, germany office, average contamination, recommended limit, high levels, unlikely amount, nuclear safety, radiation expert, much radiation, long radioactivity, wild game, next years, radioactive boars, germany institute, chernobyl fallout, quarter century, pigs dine, applied ecology, mushrooms deer, affected regions, dairy products, france institute, normal, meat, consumption, thousands, cesium, becquerels, radiation, radioactivity, germany, soil, chernobyl, boars, cancers, hunters, austria, authorities, times, mushrooms, affected, time, france, products, legacy, cloud, animals, people, eat, berlin, look, fit, problems, world, consequences, freiburg, build, body, thought, risk, various, increase, linked, susceptible, snuffle, snouts, feed, kinds, mushroom, tend, problem, common, checked, destroyed, throw, calculated, measurement, plants, percent, registered, rare, traces, banned, sale, pose, exposure, pounds, possibility, issue, children]</td>\n",
       "      <td>[radiation, radioactive boars, nuclear, germany, radioactivity, normal, contamination, years, limit, limits, eat, chernobyl, year register, cesium, hunted, health, levels, environment, office, reddemann, spinach, union, agency, agencies, japan, registers, registered, affected regions, european]</td>\n",
       "      <td>[radiation, boars, cesium, chernobyl, germany, limit, mushrooms, legal, radioactive, nuclear, times, soil, times legal, wild, radioactivity, amount, meat, radiation protection, protection, reddemann, normal, legal cesium, office, becquerels, contamination, wild boars, cesium limit, levels, nuclear power, hagbeck, recommended, association, enough people, boars mushrooms, nuclear disaster, france, radiation expert, expert, exposure, bavaria, radioactive boars, cloud radiation, cloud, government, thousands, agency, german, office radiation protection, europe animals, europe, office radiation, fukushima plant, fukushima, boars quarter]</td>\n",
       "      <td>[accumulates, quarter, snouts, nuclear, compensation, grandchildren nuclear, calculated, forests, cesium, bagged, immediate, amount, snuffle, freiburg, unsafe, environment ministry, affected, hunters, applied ecology, unacceptable, increase, environment, experience, wild boars, possibility, recommended, becquerels, germany's office, cancers, soviet union, registers dozens, france's institute of radiation protection, contamination, radioactivity, theradioactivity, plant, austria, contaminated, austria authorities, mushrooms, nuclear safety, radiation protection, destroyed, registered, chernobyl, consume, federal, institute, germany, consumption, normal, german, radiation, meat, milk spinach cabbage, precaution, problem, measurement, altitude, consequences, susceptible, health, twothirds, exposure, animals, radioactive, limit]</td>\n",
       "      <td>[chernobyl, cesium, meat, becquerels, wild boars, mushrooms, contamination, radioactivity, health, germany, radiation]</td>\n",
       "    </tr>\n",
       "    <tr>\n",
       "      <th>4</th>\n",
       "      <td>are some kids overscheduled experts debate pros cons of highly programmed childhood thursday march healthday news from sports practices to music lessons to community service american kids always seem to have plenty to keep them busy but whether they actually too busy reaching a tipping point detrimental to their mental and physical health remains a topic of debate the subject of overscheduled children has been on scientists radar for at least a decade said andrea mata a doctoral student at kent state university whose recent study on highly involved children was scheduled for presentation thursday at a symposium in montreal run by the society for research in child development i think it a hot topic right now mata said there definitely a mix of viewpoints so i think a lot more research is needed to find out what going on the srcd symposium will examine which children and adolescents become overscheduled what happens at high levels of extracurricular involvement and how factors such as school grades and aggression levels are affected between percent and percent of american children and teens claim to take part in at least one extracurricular pursuit spending an average of five to nine hours per week in structured activities according to the srcd only percent to percent however devote more than hours per week to these activities jean twenge author of the book generation me and a professor of psychology at san diego state university said data gathered between the and the indicated overscheduling rose during that period and then leveled off are kids really overscheduled it not the average experience but that does mean it not a problem twenge said parents worry about keeping up but it certain types of parents who worry about it twenge said the competition for admission to the nation top colleges compels some parents and kids to fill every spare hour with endeavors mata study followed children from birth through age dividing them into groups based on how involved they were outside of school and home the children in the highest activity level averaged minutes per week of structured activities at kindergarten which increased to minutes weekly by fifth grade highly involved children were more likely to be girls from more affluent families mata said and their mothers had attained higher education levels this group had higher grades and lower levels of delinquency among other behavioral and academic measurements compared to children she said we looking at it in a much more positive way mata said these highly involved kids are highly adaptive and linda balog former executive director of the child and adolescent stress management institute at state university of new york at brockport said parents should ask their children how they feel about their extracurricular pursuits and whether they feel overwhelmed and stressed we see some kids forced into organized sports at early ages and then get so burned out that they opt not to play in high school said balog an associate professor of health sciences who teaching a course on child and adolescent stress sometimes parents live through their children a sort of surrogate self she added i think we have to err on the side of backing off a bit as opposed to everything being organized and structured experts note that research presented at meetings is considered preliminary until it is published in a journal</td>\n",
       "      <td>[mata, american kids always, presentation thursday, twenge, symposium, associate, university, aggression, experts debate, extracurricular pursuit, highly involved children, psychology, structured, highly involved children, organized, sports practices, school grades, keeping, highly programmed, teens claim, tipping point, kindergarten, measurements compared, busy, some kids overscheduled, reaching, brockport, preliminary, music lessons, executive, scheduled, factors, adolescents, children, overwhelmed, san diego state university, health sciences, community, generation, research presented, viewpoints, jean twenge author, examine, evermounting, child development, adolescent, highfunctioning linda balog, adaptive, extracurricular pursuits, management, extracurricular involvement, overscheduled, andrea mata, thursday, mata's, teaching, lessinvolved children, research, parents, positive, state university whose recent study, new york, delinquency, srcd symposium, parents, affluent families mata, impressivelooking, surrogate, srcd, decade, doctoral, average, higher, level averaged, levels, teens, percent, percent and, sports, dividing, forced, ages, presented, involved, extracurricular, competition, hours, measurements, home, said parents worry about, study, affluent, andrea, attained, 1354, child and]</td>\n",
       "      <td>[kids, school, children, school, activities, extracurricular]</td>\n",
       "      <td>[health sciences, highfunctioning linda balog, extracurricular pursuits, higher, highly programmed, mata's, positive, levels, 1354, community, competition, organized, percent, evermounting, study, overwhelmed, viewpoints, affluent families mata, sports, adolescents, scheduled, hours, ages, twenge, busy, brockport, kindergarten, affluent, measurements compared, percent and, thursday, music lessons, teens, presented, home, srcd, factors, experts debate, jean twenge author, generation, parents, extracurricular involvement, andrea mata, attained, extracurricular pursuit, symposium, child development, research, associate, adaptive, state university whose recent study, forced, extracurricular, impressivelooking, child and, management, surrogate, psychology, sports practices, keeping, tipping point, san diego state university, overscheduled, mata, involved, teens claim, highly involved children, teaching, school, adolescent, level averaged, measurements, executive, structured, research presented, delinquency, aggression, lessinvolved children, dividing, andrea, activities, doctoral, preliminary, american kids always, some kids overscheduled, average, decade, school grades, children, reaching, university, said parents worry about, examine, kids, presentation thursday, srcd symposium, new york]</td>\n",
       "      <td>[linda balog former executive director, adolescent stress sometimes parents live, least one extracurricular pursuit spending, endeavors mata study followed children, fifth grade highly involved children, problem twenge said parents worry, adolescent stress management institute, nation top colleges compels, fill every spare hour, decade said andrea mata, affluent families mata said, positive way mata said, activities jean twenge author, nine hours per week, attained higher education levels, high school said balog, hours per week, brockport said parents, tipping point detrimental, indicated overscheduling rose, academic measurements compared, adolescents become overscheduled, structured activities according, structured experts note, physical health remains, highly involved kids, highly involved children, hot topic right, kids really overscheduled, percent however devote, mata said, twenge said, structured activities, high levels, highly adaptive, extracurricular involvement, higher grades, extracurricular pursuits, overscheduled children, aggression levels, lower levels, health sciences, school grades, kids forced, american children, sports practices, music lessons, scientists radar, doctoral student, presentation thursday, montreal run, teens claim, take part, book generation, certain types, age dividing, groups based, minutes weekly, delinquency among, state university, new york, early ages, surrogate self, considered preliminary, busy reaching, average experience, feel overwhelmed, organized sports, associate professor, child development, research presented, said, least, srcd symposium, parents, worry, involved, school, kids, children, topic, busy, symposium, percent, average, srcd, professor, feel, organized, research, child, plenty, keep, whether, actually, mental, debate, subject, scheduled, society, ...]</td>\n",
       "      <td>[said, mata, leveled, high levels, highly, activities, overscheduling, activity level averaged, health, kids overscheduled experts, twenge, grades, grade, children, involved, involvement, state, point, age, ages, measurements, sports, topic, parents, thursday, average, stressed, stress management, study, higher, american]</td>\n",
       "      <td>[children, said, parents, mata, highly, kids, overscheduled, involved, extracurricular, per week, highly involved, structured, child, twenge, research, mata said, state university, activities, university, levels, percent, think, state, school, week, per, professor, debate, minutes, twenge said, busy, study, balog, stress, child adolescent stress, child adolescent, adolescent, adolescent stress, structured activities, hours, said parents, highly involved children, hours per, hours per week, experts, organized, sports, least, involved children, per week structured, srcd, parents worry, symposium, week structured activities, percent percent, week structured, grades, topic, health, higher, american, thursday, whether, average, feel, worry, high, certain types, followed children birth, sort surrogate, mothers attained, sort, society research, sometimes parents live, sort surrogate self, five nine, much positive way, five nine hours, mothers attained higher, sometimes parents, nation top, followed children, former executive, former executive director, sometimes, forced, nation, society, forced organized, forced organized sports, music, nation top colleges, certain, much positive, society research child, music lessons, certain types parents]</td>\n",
       "      <td>[adolescent stress management institute, highly involved kids, highly involved children, structured activities, high levels, extracurricular involvement, extracurricular pursuits, overscheduled children, aggression levels, health sciences, school grades, american children, sports practices, music lessons, doctoral student, presentation thursday, teens claim, book generation, certain types, state university, new york, early ages, surrogate self, average experience, associate professor, child development, least, srcd symposium, parents, worry, involved, school, kids, children, topic, busy, symposium, percent, average, srcd, professor, feel, organized, research, child, plenty, mental, debate, subject, scheduled, society, think, mix, viewpoints, lot, needed, examine, happens, factors, affected, psychology, period, leveled, mean, competition, admission, birth, home, increased, likely, girls, mothers, group, behavioral, much, ask, stressed, burned, opt, play, course, sort, err, side, backing, bit, opposed, everything, meetings, published, journal]</td>\n",
       "      <td>[mata, leveled, high levels, activities, health, twenge, grades, grade, children, involved, involvement, state, point, age, ages, measurements, sports, topic, parents, thursday, average, stressed, stress management, study, american]</td>\n",
       "      <td>[children, parents, mata, kids, overscheduled, involved, extracurricular, structured, child, twenge, research, state university, activities, university, levels, percent, think, state, school, week, professor, debate, minutes, busy, study, balog, stress, child adolescent stress, child adolescent, adolescent, adolescent stress, structured activities, hours, highly involved children, experts, organized, sports, least, srcd, symposium, percent percent, grades, topic, health, american, thursday, average, feel, worry, high, certain types, sort surrogate, sort, society research, sort surrogate self, nation top, former executive, forced, nation, society, music, certain, society research child, music lessons]</td>\n",
       "      <td>[health sciences, extracurricular pursuits, mata's, positive, levels, community, competition, organized, percent, study, overwhelmed, viewpoints, sports, adolescents, scheduled, hours, ages, twenge, busy, brockport, affluent, thursday, music lessons, teens, presented, home, srcd, factors, experts debate, generation, parents, extracurricular involvement, andrea mata, attained, extracurricular pursuit, symposium, child development, research, associate, adaptive, forced, extracurricular, management, surrogate, psychology, sports practices, san diego state university, overscheduled, mata, involved, teens claim, highly involved children, school, adolescent, measurements, executive, structured, delinquency, aggression, andrea, activities, doctoral, preliminary, average, decade, school grades, children, university, examine, kids, presentation thursday, srcd symposium, new york]</td>\n",
       "      <td>[kids, school, children, school, activities, extracurricular]</td>\n",
       "    </tr>\n",
       "    <tr>\n",
       "      <th>5</th>\n",
       "      <td>ncaa tournament nobody will dispute that they are great coaches and the latest evidence lies in the teams they guided to this year final four nobody will argue that john calipari and jim calhoun are saints either the men on the sidelines for the final four matchup have had their share of trouble with each other the programs they run and the ncaa they are a microcosm of everything that right and wrong in college basketball a game where good leaders can elevate programs and players to new levels but the road to success often produces its fair share of cringeworthy dealing calipari leads the wildcats against calhoun and the huskies in the second semifinal saturday both coaches coaxed a turnaround out of their young struggling teams to make unexpected trips to the game biggest stage the third for calipari and fourth for calhoun on the eve of the game their histories were as lively a topic as the success of their teams one of the first questions calipari fielded friday was whether he is the s version of former unlv coach jerry tarkanian a coach who did a lot of winning in his day but did it with his phone number firmly entrenched on the ncaa speed dial the question slid off the wildcats coach as smoothly as good kentucky bourbon i respect everything that jerry did his kids how they played all those things calipari said but no i think i the john calipari i do know what that means and i hate to talk in the third party but i am who i am calipari is back in houston where three years ago he won two games at the regional to lead memphis to the final four only to leave that school a year later just as the program was running into ncaa problems involving the recruitment of derrick rose calipari first final four visit with massachusetts back in also has been scrubbed by the ncaa which led to another question how does it feel to be coaching in your first final four i do deal with that said the coach who spent four years in the nba between his stints at umass and memphis we been here three times those players played those games and did what they were supposed to i so proud of what they all accomplished he says this without apology though his schools suffered calipari was not found at fault in either of the ncaa probes the problems between cal and cal began during those umass days when the coaches were on top of each other in neighboring states one trying to protect his turf and the other trying to carve out his own the calhoun lightheartedly reprised the complaints he raised more than a decade ago about calipari a pittsburgh native trying to muscle his way through new england but made it clear the enmity has died down as the years have passed from a generational standpoint to the fact that john really was trying to claim new england calhoun said of the lack of a true friendship with his counterpart then he affected his best boston accent he could never say he pahked the caah in hahvahd yahd he did know what clam chowder really was i took umbrage to it but i take umbrage to a lot of things</td>\n",
       "      <td>[calipari, kentuckyconnecticut, turnaround, tongueincheek, clear, huskies, young, four, accomplished, dispute, involving, day, stage, muscle, latest, passed, great coaches, chowder, generational standpoint, games, teams, tournament, fielded, sidelines, firmly entrenched, running, unexpected, trouble, neighboring, began during, struggling, players, supposed, affected, enmity, apology, lightheartedly reprised, semifinal, program, evidence, dealing, scrubbed, complaints, guided, share, question, argue, decade, coaxed, regional, proud]</td>\n",
       "      <td>[coaches, ncaa, basketball, calipari, calhoun]</td>\n",
       "      <td>[day, argue, fielded, calhoun, supposed, games, four, kentuckyconnecticut, tongueincheek, proud, program, accomplished, chowder, great coaches, semifinal, basketball, players, coaxed, passed, ncaa, firmly entrenched, running, involving, trouble, scrubbed, dispute, muscle, teams, calipari, turnaround, neighboring, lightheartedly reprised, dealing, clear, unexpected, apology, guided, sidelines, affected, enmity, question, young, huskies, stage, decade, coaches, latest, tournament, began during, evidence, struggling, regional, share, generational standpoint, complaints]</td>\n",
       "      <td>[first questions calipari fielded friday, former unlv coach jerry tarkanian, claim new england calhoun said, phone number firmly entrenched, cringeworthy dealing calipari leads, neighboring states one trying, year final four nobody, first final four, latest evidence lies, final four matchup, second semifinal saturday, make unexpected trips, without apology though, best boston accent, could never say, ncaa tournament nobody, good kentucky bourbon, clam chowder really, schools suffered calipari, calhoun lightheartedly reprised, spent four years, pittsburgh native trying, ncaa speed dial, success often produces, young struggling teams, game biggest stage, things calipari said, three years ago, ncaa problems involving, new england, final four, new levels, teams one, year later, good leaders, three times, decade ago, john really, john calipari, jim calhoun, ncaa probes, college basketball, question slid, another question, generational standpoint, true friendship, hahvahd yahd, took umbrage, take umbrage, wildcats coach, great coaches, coaches coaxed, saints either, elevate programs, fair share, respect everything, third party, two games, lead memphis, massachusetts back, cal began, umass days, jerry, said, players played, calipari, calhoun, years, coach, trying, ncaa, teams, success, problems, things, game, coaches, share, programs, everything, players, wildcats, third, played, back, umass, memphis, games, either, cal, dispute, guided, argue, men, sidelines, trouble, run, microcosm, right, wrong, ...]</td>\n",
       "      <td>[calipari, coaches, coaching, ncaa, coach jerry, calhoun, year, new, years ago, evidence, unexpected, boston, native, semifinal, struggling, biggest, number firmly, kentucky, good]</td>\n",
       "      <td>[calipari, ncaa, final, calhoun, final four, four, trying, coach, john, teams, coaches, game, first, said, new, umass, players, jerry, first final four, first final, john calipari, memphis, share, cal, programs, question, umbrage, new england, things, played, third, england, games, wildcats, nobody, years, ago, success, problems, year, everything, know, back, good, lot, either, really, three, one, complaints raised decade, suffered, take umbrage, take umbrage lot, success teams one, said coach spent]</td>\n",
       "      <td>[new england, new levels, good leaders, john calipari, jim calhoun, ncaa probes, college basketball, generational standpoint, true friendship, hahvahd yahd, took umbrage, great coaches, elevate programs, fair share, respect everything, third party, lead memphis, umass days, jerry, calipari, calhoun, years, coach, ncaa, teams, success, problems, things, game, coaches, share, programs, everything, players, wildcats, third, played, umass, memphis, games, cal, dispute, guided, argue, men, sidelines, trouble, microcosm, right, wrong, road, huskies, turnaround, fourth, eve, histories, topic, version, lot, day, kids, think, means, hate, talk, houston, regional, school, program, recruitment, scrubbed, led, feel, deal, nba, stints, supposed, proud, accomplished, found, fault, top, protect, turf, carve, complaints, raised, muscle, way, made, clear, enmity, passed, fact, lack, counterpart, affected, pahked, caah]</td>\n",
       "      <td>[calipari, coaches, ncaa, coach jerry, calhoun, year, new, evidence, unexpected, boston, native, semifinal, biggest, kentucky, good]</td>\n",
       "      <td>[calipari, ncaa, final, calhoun, coach, john, teams, coaches, game, new, umass, players, jerry, john calipari, memphis, share, cal, programs, question, umbrage, new england, things, played, third, england, games, wildcats, nobody, years, success, problems, year, everything, good, lot]</td>\n",
       "      <td>[day, argue, fielded, calhoun, supposed, games, kentuckyconnecticut, tongueincheek, proud, program, accomplished, chowder, great coaches, semifinal, basketball, players, coaxed, passed, ncaa, trouble, scrubbed, dispute, muscle, teams, calipari, turnaround, clear, unexpected, apology, guided, sidelines, affected, enmity, question, young, huskies, stage, decade, coaches, latest, tournament, evidence, regional, share, generational standpoint, complaints]</td>\n",
       "      <td>[coaches, ncaa, basketball, calipari, calhoun]</td>\n",
       "    </tr>\n",
       "    <tr>\n",
       "      <th>6</th>\n",
       "      <td>ebay releases ipad sales apple has yet to reveal its official sales numbers for the ipad but friday we got a glimpse of how the tablet is selling as ebay released its figures for the first two weeks of sales about ipad tablets were sold in the period between the ipad s and international launches as cnet noted the surprise number here is that the ipad is being resold in the united states at a much higher rate than was the first ipad according to ebay s figures percent of its ipad sales are in the united states compared with just percent with the original ipad when it comes to resales overseas russia snapped up the most devices in the tablet s first two weeks on the market followed by canada hong kong japan and the united kingdom related stories ipad coming to radio shack tomorrow ipad review the edition ipad shipping wait time at three to four weeks</td>\n",
       "      <td>[international, apple, resold, united states, most devices, canada hong kong japan, surprise number, wait time, glimpse, original, radio shack tomorrow, russia, ipad, reveal, percent, ebay, weeklater edition, much higher rate, four, cnet, friday, united kingdom, two, tablet, snapped, sales, overseas, coming, numbers, figures, edition, official, shack, tablets, period, market, than, united, released]</td>\n",
       "      <td>[apple, ipad 2, ebay, tablet, the united states, sales]</td>\n",
       "      <td>[released, ebay, numbers, official, four, most devices, coming, united states, market, wait time, russia, resold, original, surprise number, ipad 2, tablet, percent, weeklater edition, sales, edition, period, radio shack tomorrow, united, international, friday, snapped, tablets, shack, figures, glimpse, reveal, ipad, cnet, than, overseas, much higher rate, apple, canada hong kong japan, two, the united states, united kingdom]</td>\n",
       "      <td>[radio shack tomorrow ipad review, edition ipad shipping wait time, ebay releases ipad sales apple, resales overseas russia snapped, canada hong kong japan, much higher rate, official sales numbers, first ipad according, first two weeks, united states compared, ipad sales, united states, ipad tablets, original ipad, ebay released, four weeks, international launches, cnet noted, surprise number, market followed, figures percent, sales, ipad, ebay, figures, percent, yet, reveal, friday, got, glimpse, tablet, selling, sold, period, resold, comes, devices, three]</td>\n",
       "      <td>[ipad sales, hong kong, overseas russia, states, shack]</td>\n",
       "      <td>[ipad, sales, ebay, weeks, united, first, united states, first two, first two weeks, tablet, two weeks, figures, ipad sales, states, percent, two, ipad shipping wait, ipad shipping, ipad sales united, ipad tablets, ipad tablets sold, percent original, percent ipad, ipad sales apple, official, wait time three, wait, ipad review edition, ipad review, ipad resold united, ipad resold, ipad international launches, ipad international, ipad friday got, ipad friday, ipad coming radio, ipad coming, ipad comes resales, ipad comes, ipad according ebay, wait time]</td>\n",
       "      <td>[ipad sales, united states, ipad tablets, original ipad, international launches, surprise number, figures percent, sales, ipad, ebay, figures, percent, reveal, friday, glimpse, tablet, sold, period, resold, devices]</td>\n",
       "      <td>[ipad sales, hong kong, overseas russia, states, shack]</td>\n",
       "      <td>[ipad, sales, ebay, weeks, united, united states, tablet, figures, ipad sales, states, percent, ipad shipping wait, ipad shipping, ipad tablets, percent ipad, official, wait, ipad review edition, ipad review, ipad resold, ipad international, ipad friday, wait time]</td>\n",
       "      <td>[released, ebay, numbers, official, united states, market, wait time, russia, resold, original, surprise number, ipad 2, tablet, percent, weeklater edition, sales, edition, period, radio shack tomorrow, united, international, friday, tablets, shack, figures, glimpse, reveal, ipad, cnet, apple, the united states, united kingdom]</td>\n",
       "      <td>[apple, ipad 2, ebay, tablet, the united states, sales]</td>\n",
       "    </tr>\n",
       "  </tbody>\n",
       "</table>\n",
       "</div>"
      ],
      "text/plain": [
       "                                                                                                                                                                                                                                                                                                                                                                                                                                                                                                                                                                                                                                                                                                                                                                                                                                                                                                                                                                                                                                                                                                                                                                                                                                                                                                                                                                                                                                                                                                                                                                                                                                                                                                                                                                                                                                                                                                                                                                                                                                                                                                                                                                                                                                                                                                                                                                                                                                                                                                                                                                                                                                                                                                                                                                                                                                                                                                                                                                                                                                                                                                                                                                                                                                                                                                                                                                                                                                                                                                                                                                                                                                                                                                                                                                                                                                                                                                                                                                                                                                                                                                                                                                                                                                                                                                                                                                                                                                                                                                                                                                                                                                                                                                                                                                                                                                                                                                                                                                                                                                                                                                                                                                                                                                                                                                                                                                                                                                                     texts  \\\n",
       "0                                                                                                                                                                                                                                                                                                                                                                                                                                                                                                                                                                                                                                                                                                                                                                                                                                                                                                                                                                                                                                                                                                                                                                                                                                                                                                                                                                                                                                                                                                                                                                                                                                                                                                                                                                                                                                                                                                                                                                                                                                                                                                                                                                                                                                                                                                                                                                                                                                                                                                                                                                                                                                                                                                                                                                                                                                                                                                                                                                                                                                                                                                                                                                                                                                                                                                                                                                                                                                                                                                                                                                                                                                                                                                                                                                                               singer michael buble weds tv star luisana lopilato canadian pop star michael buble kisses his bride argentine tv actress luisana lopilato after their civil wedding ceremony in buenos aires argentina thursday march ap pisarenko buenos aires argentina ap canadian pop star michael buble married argentine tv actress luisana lopilato in a civil ceremony on thursday the singer of crazy love and his argentine sweetheart posed for a mob of fans after tying the knot at a civil registry in downtown buenos aires she wore a lilac chiffon dress with silver high heels and buble wore a sharp gray suit as he leaned down for a smooch then lopilato tossed a bouquet of purple orchids into the crowd as some fans threw rice and red rose petals and a young woman shouted i love you michael buble won his grammy last month for traditional pop vocal album and is one of north america concert entertainers lopilato made her name as a model and in argentine sitcoms and soap operas including rebel way little girls married with children and pirate soul the couple plan a full ceremony with guests next month at a mansion outside buenos aires and another wedding in vancouver in april they have homes in canada los angeles and buenos aires province buble dated british actress emily blunt for several years before he met lopilato in during a south american concert tour lopilato was romantically involved before with tennis player juan monaco with more than fans and followers in facebook and twitter lopilato sent messages throughout the day thanking her family and the media how beautiful it all was she wrote   \n",
       "1                                                                                                                                                                                                                                                                                                                                                                                                                                                                                                                                                                                                                                                                                                                                                                                                                                                                                                                                                                                                                                                                                                                                                                                                                                                                                                                                                                                                                                                                                                                                                                                                                                                                                                                                                                                                                                                                                                                                                                                                                                                                                                                                                                                                                                                                                                                                                                                                                                                                                                                                                                                                                                                                                                                                                                                                                                                                                                                                                                                                                                                                                                                                                                                                                                                                                                                                  dolce and gabbana will not face trial after fraud case is thrown out milan judge rules there is not enough evidence to support accusations against the italian designers domenico dolce and stefano gabbana will no longer have to worry about what to wear in court italian fashion most powerful design duo have been told they will not stand trial for an alleged tax dodge after a judge in milan threw out the case against them at a preliminary hearing the pair have built one of the world largest fashion brands beloved of celebrities such as madonna and kylie they were accused of fraud of around as part of an inquiry into reports the company had failed to declare in revenues both designers dolce brother alfonso and three other senior members of the company were accused but all denied the charges judge simone luerti ruled there was not enough evidence to take the milanese designers to trial and closed the file on other people who had been under investigation as well the reported allegation was that dolce gabbana created a company in luxembourg in and which was given control of the group two brands the main label and its younger line d g so avoiding italian taxes it is unlikely that sales of their brand of clothes will have been affected by this near brush with scandal dolce and gabbana are a superstar partnership there are stores in countries who have masterminded an instantly recognisable they are central to the milanese fashion notion of more is more alongside ads the brand success has been based on its ability to sell suiting and glitzy party dresses alongside more affordable branded items including jeans perfume sunglasses and makeup this is not the first controversy dolce and gabbana have weathered three years ago they came under fire over an advertisement that was accused of exalting gang rape it showed a woman being held down on the ground by a man while other men looked on in giorgio armani accused the couple of having copied a design for quilted trousers a charge dolce and gabbana contemptuously dismissed   \n",
       "2  plus size fashion size clothes can look stylish if you ever tried to tug a poorly fitting pair of size jeans over your hips in a changing room before collapsing in a dejected heap on the floor you are not alone one in four british women is now wearing a size or above but as radio presenter jenni murray admitted in this paper last week it is almost impossible to find clothes that are both big and beautiful so is hiding away in shapeless sacks the only solution it most certainly is not as a fashion stylist who has dressed celebrities of all shapes and sizes i discovered that every and i mean every woman can look good if you know where to look there are some fantastic companies both on the high street and on the internet that have finally woken up to the fact that curvier women do just want to crawl away and hide my number one rule is to ditch the belief that means frumpy brave the high street and politely of course demand to be noticed there are plenty of chains that go up to your size from marks spencer and evans to debenhams new look and monsoon if you ca face the tyranny of badly lit dressing rooms there are countless online stores that you can peruse from the comfort of your living room simply be marisota duo anna scholz beige plus and ann harvey are a few of the best and even trendy boutique has launched a label asos curve so here my pick of what on offer as worn by our gorgeous model nina bust waist hips enlarge highlight your body as you would your face put the darkest colour on your heaviest area or use colour to create a slim panel down the centre of your outfit this can be done with a dark cardigan over a lighter shift dress but this flattering frock does the work for you camel and black dress star by julien macdonald at debenhams jacket dorothy perkins ring stack daisy eve at evans shoes enlarge you can wear stripes capes and trousers it just about wearing them well all stripes work whatever your dress size if they broken up with layering team them with darker trousers and try a cardigan on top or wear under a fun and playful cape like this one which hides larger hips cape and jeans both asos curve striped top new look necklace sunglasses miu miu at david clulow shoes ted baker bag enlarge this season catwalk featured a lot of print and there no reason for girls to be left out prints are a nifty way to disguise lumps and bumps tall girls can pull off large bold prints but something subtler like this suits everyone break up the print with jackets or cardigans in plain colours china print long dress evans collection at evans white shrug evans necklace daisy eve at evans sandals new look enlarge do you have slim legs but worry about your hips and thighs you can still do fitted trousers like these combats simply layer longer pieces over the top to disguise problem areas this lightweight parka is thin enough to wear in summer and completes the combat look parka trousers indigo collection at marks spencer yellow sleeveless shirt new look belt dorothy perkins scarf epice at fenwick earrings part of a multipack daisy eve at evans ring lola rose shoe boots enlarge get out of the leggings rut harem pants are a alternative to leggings you have to be fearless to wear them as there will still be volume around your hips and bum that part of the silhouette but if you keep the top half short you emphasise your waist if you concerned about the jersey fabric revealing wobbly bits wear control tights to smooth them out white jacket anna scholz blush lace top limited collection at marks spencer trousers monsoon necklace lola rose earrings part of a multipack daisy eve at evans shoes enlarge this is a fantastic shape if you got a big bum and it everywhere at the moment thanks to mad men this dress has a lovely neckline which helps slim a big bust and volume in the skirt to skim over your hips and thighs with a dress this perfect you can get away with a daring pattern like these thick stripes on the bottom half red dress per una at marks spencer cardigan monsoon shoes the basics trousers should be ideally with a smooth front and the zip at the side sleeves are either elbow or length keep your eye out for to wear over strappy tops or dresses avoid cap sleeves as these cut your arm at the widest point necklines are more flattering when lower but you can cover up with a jersey camisole up to size at marks spencer skirts should sit smoothly across the front a at the knee will give a balancing effect dresses should have a back zip not a side one diagonal ruching across the body is always slimming and do forget accessories go for big bold pieces daisy eve at evans do an excellent range with bangles and rings in all sizes lola rose has a great range of stretch bangles use long necklaces has a good selection and scarves to draw the eye down your body shoes evans has a great range of shoes up to size and duo has boot styles in calf widths up to and an amazing selection of footwear in three width fittings up to size nine good underwear this is essential in order to achieve the smoothest sleekest shape you can simply be stocks gok wan s excellent shapewear and a good selection of large bras that look feminine pictures joel anderson model nina hair and katie reedman   \n",
       "3                                                                                                                                                                                                                                                                                                                                                                                                                                                                                                                                                                                                                                                                                                                                                             radioactive boars in germany a legacy of chernobyl radioactive boars a quarter century after the chernobyl nuclear disaster in the soviet union carried a cloud of radiation across europe these animals are radioactive enough that people are urged not to eat them berlin for a look at just how long radioactivity can hang around consider germany wild boars a quarter century after the chernobyl nuclear disaster in the soviet union carried a cloud of radiation across europe these animals are radioactive enough that people are urged not to eat them and the mushrooms the pigs dine on are fit for consumption either germany experience shows what could await japan if the problems at the fukushima plant get any worse nuclear power around the world the german boars roam in forests nearly miles kilometers from chernobyl yet the amount ofradioactive within their tissue often registers dozens of times beyond the recommended limit for consumption and thousands of times above normal we still feel the consequences of chernobyl fallout here said christian kueppers a radiation expert at germany institute for applied ecology in freiburg the contamination wo go away any time soon with cesium being roughly years theradioactivity will only slightly decrease in the coming years cesium can build up in the body and high levels are thought to be a risk for various other cancers still researchers who studied chernobyl could not find an increase in cancers that might be linked to cesium cesium also accumulates over time in the soil which makes boars most susceptible they snuffle through forest soil with their snouts and feed on the kinds of mushroom that tend to store radioactivity environment ministry spokesman thomas hagbeck said the problem is so common that now all wild boars bagged by hunters in the affected regions have to be checked for radiation government compensation to hunters whose quarry has to be destroyed has added up to over the past months hagbeck said it really sad when you have to throw out meat that is normally extraordinarily tasty said joachim reddemann managing director of bavaria state hunting association thousands of wild boars killed in southern germany every year register unacceptable levels of radiation it calculated in becquerels a measurement of radiation given off anything beyond becquerels per kilogram is recommended according to germany federal office for radiation protection normal meat has an average contamination of becquerel per kilogram and a german would normally consume about becquerels per year from plants and dairy products the agency said about percent of the boars hunted are above the legal radioactivity limit reddemann said and the government radiation protection office says some mushrooms have registered up to times the legal cesium limit even farther away in france there is still soil contamination though levels have dropped significantly it is now rare to find unsafe levels of cesium in boars and mushrooms said radiation expert philippe renaud of france institute of radiation protection and nuclear safety in austria too traces of radioactive cesium remain in the soil along with boars and mushrooms deer have been affected some testing at five times the legal limit that country environment agency says japan fukushima plant has so far not leaked nearly as much radiation as chernobyl but authorities there have banned the sale of milk spinach cabbage and other products from surrounding regions as a precaution european officials insist that occasionally eating contaminated boar meat or mushrooms does not pose an immediate health risk public health agencies are typically conservative in setting limits for radioactivity in food eating grams of mushrooms tested seven times above the legal cesium limit for example would amount to the same exposure as the altitude radiation taken in during a flight according to germany office for radiation protection in austria authorities say that eating the unlikely amount of pounds of contaminated boar meat that is times above the legal cesium limit would amount to of an adult normal annual radiation intake by food however the possibility of exposure will not be going away anytime soon we assume that wild game will still be similarly affected until and then very slowly recede said reddemann of bavaria hunting association the problem will certainly still be around for the next years and chernobyl will still be an issue for our children and grandchildren nuclear power around the world   \n",
       "4                                                                                                                                                                                                                                                                                                                                                                                                                                                                                                                                                                                                                                                                                                                                                                                                                                                                                                                                                                                                                                                                                                                                                                                                                                                                                                                                                                                                                                                                                                                                                                                                                                                                                                                                                                                                                                                                                                                          are some kids overscheduled experts debate pros cons of highly programmed childhood thursday march healthday news from sports practices to music lessons to community service american kids always seem to have plenty to keep them busy but whether they actually too busy reaching a tipping point detrimental to their mental and physical health remains a topic of debate the subject of overscheduled children has been on scientists radar for at least a decade said andrea mata a doctoral student at kent state university whose recent study on highly involved children was scheduled for presentation thursday at a symposium in montreal run by the society for research in child development i think it a hot topic right now mata said there definitely a mix of viewpoints so i think a lot more research is needed to find out what going on the srcd symposium will examine which children and adolescents become overscheduled what happens at high levels of extracurricular involvement and how factors such as school grades and aggression levels are affected between percent and percent of american children and teens claim to take part in at least one extracurricular pursuit spending an average of five to nine hours per week in structured activities according to the srcd only percent to percent however devote more than hours per week to these activities jean twenge author of the book generation me and a professor of psychology at san diego state university said data gathered between the and the indicated overscheduling rose during that period and then leveled off are kids really overscheduled it not the average experience but that does mean it not a problem twenge said parents worry about keeping up but it certain types of parents who worry about it twenge said the competition for admission to the nation top colleges compels some parents and kids to fill every spare hour with endeavors mata study followed children from birth through age dividing them into groups based on how involved they were outside of school and home the children in the highest activity level averaged minutes per week of structured activities at kindergarten which increased to minutes weekly by fifth grade highly involved children were more likely to be girls from more affluent families mata said and their mothers had attained higher education levels this group had higher grades and lower levels of delinquency among other behavioral and academic measurements compared to children she said we looking at it in a much more positive way mata said these highly involved kids are highly adaptive and linda balog former executive director of the child and adolescent stress management institute at state university of new york at brockport said parents should ask their children how they feel about their extracurricular pursuits and whether they feel overwhelmed and stressed we see some kids forced into organized sports at early ages and then get so burned out that they opt not to play in high school said balog an associate professor of health sciences who teaching a course on child and adolescent stress sometimes parents live through their children a sort of surrogate self she added i think we have to err on the side of backing off a bit as opposed to everything being organized and structured experts note that research presented at meetings is considered preliminary until it is published in a journal   \n",
       "5                                                                                                                                                                                                                                                                                                                                                                                                                                                                                                                                                                                                                                                                                                                                                                                                                                                                                                                                                                                                                                                                                                                                                                                                                                                                                                                                                                                                                                                                                                                                                                                                                                                                                                                                                                                                                                                                                                                                                                                                                                                                                                                                                                                                                                                                                                      ncaa tournament nobody will dispute that they are great coaches and the latest evidence lies in the teams they guided to this year final four nobody will argue that john calipari and jim calhoun are saints either the men on the sidelines for the final four matchup have had their share of trouble with each other the programs they run and the ncaa they are a microcosm of everything that right and wrong in college basketball a game where good leaders can elevate programs and players to new levels but the road to success often produces its fair share of cringeworthy dealing calipari leads the wildcats against calhoun and the huskies in the second semifinal saturday both coaches coaxed a turnaround out of their young struggling teams to make unexpected trips to the game biggest stage the third for calipari and fourth for calhoun on the eve of the game their histories were as lively a topic as the success of their teams one of the first questions calipari fielded friday was whether he is the s version of former unlv coach jerry tarkanian a coach who did a lot of winning in his day but did it with his phone number firmly entrenched on the ncaa speed dial the question slid off the wildcats coach as smoothly as good kentucky bourbon i respect everything that jerry did his kids how they played all those things calipari said but no i think i the john calipari i do know what that means and i hate to talk in the third party but i am who i am calipari is back in houston where three years ago he won two games at the regional to lead memphis to the final four only to leave that school a year later just as the program was running into ncaa problems involving the recruitment of derrick rose calipari first final four visit with massachusetts back in also has been scrubbed by the ncaa which led to another question how does it feel to be coaching in your first final four i do deal with that said the coach who spent four years in the nba between his stints at umass and memphis we been here three times those players played those games and did what they were supposed to i so proud of what they all accomplished he says this without apology though his schools suffered calipari was not found at fault in either of the ncaa probes the problems between cal and cal began during those umass days when the coaches were on top of each other in neighboring states one trying to protect his turf and the other trying to carve out his own the calhoun lightheartedly reprised the complaints he raised more than a decade ago about calipari a pittsburgh native trying to muscle his way through new england but made it clear the enmity has died down as the years have passed from a generational standpoint to the fact that john really was trying to claim new england calhoun said of the lack of a true friendship with his counterpart then he affected his best boston accent he could never say he pahked the caah in hahvahd yahd he did know what clam chowder really was i took umbrage to it but i take umbrage to a lot of things   \n",
       "6                                                                                                                                                                                                                                                                                                                                                                                                                                                                                                                                                                                                                                                                                                                                                                                                                                                                                                                                                                                                                                                                                                                                                                                                                                                                                                                                                                                                                                                                                                                                                                                                                                                                                                                                                                                                                                                                                                                                                                                                                                                                                                                                                                                                                                                                                                                                                                                                                                                                                                                                                                                                                                                                                                                                                                                                                                                                                                                                                                                                                                                                                                                                                                                                                                                                                                                                                                                                                                                                                                                                                                                                                                                                                                                                                                                                                                                                                                                                                                                                                                                                                                                                                                                                                                                                                                                                                                                                                                                                                                                                                             ebay releases ipad sales apple has yet to reveal its official sales numbers for the ipad but friday we got a glimpse of how the tablet is selling as ebay released its figures for the first two weeks of sales about ipad tablets were sold in the period between the ipad s and international launches as cnet noted the surprise number here is that the ipad is being resold in the united states at a much higher rate than was the first ipad according to ebay s figures percent of its ipad sales are in the united states compared with just percent with the original ipad when it comes to resales overseas russia snapped up the most devices in the tablet s first two weeks on the market followed by canada hong kong japan and the united kingdom related stories ipad coming to radio shack tomorrow ipad review the edition ipad shipping wait time at three to four weeks   \n",
       "\n",
       "                                                                                                                                                                                                                                                                                                                                                                                                                                                                                                                                                                                                                                                                                                                                                                                                                                                                                                                                                                                                                                                                                                                                                                                                                                                                                                                                                        given_keywords  \\\n",
       "0                                                                                                                                                                                                                                                                                                                                                                                                                                                                                                                                                                                                                                                                                                                                                                                                                                                                    [married argentine, his grammy, ceremony, kisses, messages, romantically, vocal, argentine, woman, buble dated, thanking, wedding ceremony, canadian, michael, bouquet, vocal album, crazy love, canadian pop, argentina ap, mansion, facebook, rose, argentine sweetheart, month, registry, south american, after tying, downtown, beautiful, traditional, grammy, vancouver, chiffon dress, grammywinning, family, lopilato made, north, bride argentine tv actress, media, twitter, met, high]   \n",
       "1                                                                                                                                                                                                                                                        [masterminded an instantly recognisable highend eurolook, milan, italian fashion's most powerful design, tshirts jeans perfume sunglasses, dolce and gabbana, judge simone luerti, stefano gabbana, milan judge rules, milanese fashion notion, madonna and kylie, preliminary hearing, giorgio armani, dolce's brother alfonso, italian designers domenico dolce, 2004, 2005, luxembourg, welltailored suiting, masterminded, declare 840m, central, supersexy ads, support accusations, moltosexy clothes, revenues, dolce, celebrities, instantly recognisable highend eurolook, main label, milan judge, inquiry, judge, trial, kylie, gabbana, advertisement, reported allegation, stores, design, avoiding italian taxes, giorgio armani accused, senior members, control, copied, company, italian fashion's, madonna, exalting gang rape, evidence, gabbana created, world's largest fashion brands, milanese designers, glitzy party dresses, younger line dg, couple, alleged 1bn 880m tax dodge, around 1bn, quilted trousers, 34 countries, three years ago, group's two brands, powerful design]   \n",
       "2                                                                                                                                                                                                                                                                                                                                                             [earrings 650, asoscom, 28 indigo collection, heaviest, shoes, essential, 24, 30, 5, 18, excellent, daring, evans, look, wearing, amazing, body, monsoon, capes, impossible, enlarge, lumps, radio 4, demand, control, belief, fashionforward, spencer skirts, 3950, 120, lightweight, 75, 59, frumpy, lighter, sleekest, 125 bulatticouk, girls, shapeless, ann harvey, changing, subtler, look, jenni murray, makeup, debenhams, leggings rut, 1999 new, asos, celebrities, 123 miu, don't forget accessories, fashion, range, layering, finally, jacket 40, feminine, beautiful, fantastic, broken, 899, necklaces, stores, the basics trousers, woman, 48 monsoon, combat, necklines, clulow, cardigan, collapsing, mad men, footwear, 1950, spencer, marisota, gorgeous, highlight, mean, 8995, fittings, good underwear, 750, 650, 42 simplybecouk, summer, worry, curvier, thighs, sunglasses, trousers, murray, nina, dorothy perkins, fitting, leggings, david clulow, vivaladivacom, eve, ...]   \n",
       "3                                                                                                                                                                                                                                                                                                                                                               [typically conservative, snouts, radioactivity, nuclear safety, grandchildren nuclear, urged, managing director, snuffle, bagged, registers dozens, chernobyl, hunting association, applied ecology, extraordinarily, mushrooms, consumption, france's institute of radiation protection, normal, amount, affected, similarly affected, occasionally, possibility, measurement, institute, quarter, hunters, theradioactivity, consume, germany's office, freiburg, cancers, registered, increase, radioactive, contamination, altitude, calculated, becquerels, consequences, animals, radiation, radiation protection, recommended, susceptible, precaution, destroyed, milk spinach cabbage, austria, twothirds, unsafe, forests, austria authorities, contaminated, environment, hunting, exposure, cesium, unacceptable, problem, environment ministry, soviet union, compensation, nuclear, accumulates, experience, immediate, roughly, limit, plant, german, federal, radiation, meat, assume]   \n",
       "4  [mata, american kids always, presentation thursday, twenge, symposium, associate, university, aggression, experts debate, extracurricular pursuit, highly involved children, psychology, structured, highly involved children, organized, sports practices, school grades, keeping, highly programmed, teens claim, tipping point, kindergarten, measurements compared, busy, some kids overscheduled, reaching, brockport, preliminary, music lessons, executive, scheduled, factors, adolescents, children, overwhelmed, san diego state university, health sciences, community, generation, research presented, viewpoints, jean twenge author, examine, evermounting, child development, adolescent, highfunctioning linda balog, adaptive, extracurricular pursuits, management, extracurricular involvement, overscheduled, andrea mata, thursday, mata's, teaching, lessinvolved children, research, parents, positive, state university whose recent study, new york, delinquency, srcd symposium, parents, affluent families mata, impressivelooking, surrogate, srcd, decade, doctoral, average, higher, level averaged, levels, teens, percent, percent and, sports, dividing, forced, ages, presented, involved, extracurricular, competition, hours, measurements, home, said parents worry about, study, affluent, andrea, attained, 1354, child and]   \n",
       "5                                                                                                                                                                                                                                                                                                                                                                                                                                                                                                                                                                                                                                                                                                                                                                                                            [calipari, kentuckyconnecticut, turnaround, tongueincheek, clear, huskies, young, four, accomplished, dispute, involving, day, stage, muscle, latest, passed, great coaches, chowder, generational standpoint, games, teams, tournament, fielded, sidelines, firmly entrenched, running, unexpected, trouble, neighboring, began during, struggling, players, supposed, affected, enmity, apology, lightheartedly reprised, semifinal, program, evidence, dealing, scrubbed, complaints, guided, share, question, argue, decade, coaxed, regional, proud]   \n",
       "6                                                                                                                                                                                                                                                                                                                                                                                                                                                                                                                                                                                                                                                                                                                                                                                                                                                                                                                                                   [international, apple, resold, united states, most devices, canada hong kong japan, surprise number, wait time, glimpse, original, radio shack tomorrow, russia, ipad, reveal, percent, ebay, weeklater edition, much higher rate, four, cnet, friday, united kingdom, two, tablet, snapped, sales, overseas, coming, numbers, figures, edition, official, shack, tablets, period, market, than, united, released]   \n",
       "\n",
       "                                                                                                                       my_keywords  \\\n",
       "0            [michael buble, luisana lopilato, pop star, tv actress, model, wedding, ceremony, civil registry, buenos aires, fans]   \n",
       "1                                                 [dolce, gabbana, fashion, tax dodge, fraud, trial, designers, dolce and gabbana]   \n",
       "2                                                                     [fashion, plus size, clothes, size, plus-size, hips, thighs]   \n",
       "3  [chernobyl, cesium, meat, becquerels, wild boars, mushrooms, contamination, radioactivity, health, germany, radiation, hunting]   \n",
       "4                                                                    [kids, school, children, school, activities, extracurricular]   \n",
       "5                                                                                   [coaches, ncaa, basketball, calipari, calhoun]   \n",
       "6                                                                          [apple, ipad 2, ebay, tablet, the united states, sales]   \n",
       "\n",
       "                                                                                                                                                                                                                                                                                                                                                                                                                                                                                                                                                                                                                                                                                                                                                                                                                                                                                                                                                                                                                                                                                                                                                                                                                                                                                                                                                         gold  \\\n",
       "0                                                                                                                                                                                                                                                                                                                                                                                                                                                                                                                                                                                                                                                                                                                                                [ceremony, mansion, south american, after tying, luisana lopilato, north, bride argentine tv actress, thanking, michael, argentina ap, family, canadian, argentine, grammy, twitter, registry, pop star, model, wedding ceremony, canadian pop, month, tv actress, buenos aires, fans, married argentine, rose, wedding, bouquet, buble dated, his grammy, lopilato made, messages, media, vocal album, woman, argentine sweetheart, romantically, vocal, traditional, downtown, facebook, grammywinning, high, civil registry, met, michael buble, crazy love, kisses, beautiful, chiffon dress, vancouver]   \n",
       "1                                                                                                                                                                                                         [2005, couple, milanese fashion notion, giorgio armani accused, tax dodge, exalting gang rape, fraud, supersexy ads, dolce, control, younger line dg, company, welltailored suiting, madonna, around 1bn, masterminded, preliminary hearing, stefano gabbana, stores, world's largest fashion brands, milan, masterminded an instantly recognisable highend eurolook, tshirts jeans perfume sunglasses, revenues, italian fashion's most powerful design, instantly recognisable highend eurolook, advertisement, fashion, designers, main label, reported allegation, trial, milanese designers, inquiry, declare 840m, dolce and gabbana, milan judge rules, dolce's brother alfonso, powerful design, gabbana created, copied, support accusations, glitzy party dresses, milan judge, group's two brands, judge simone luerti, gabbana, 34 countries, luxembourg, kylie, madonna and kylie, moltosexy clothes, alleged 1bn 880m tax dodge, giorgio armani, senior members, three years ago, italian fashion's, celebrities, 2004, avoiding italian taxes, quilted trousers, judge, design, italian designers domenico dolce, evidence, central]   \n",
       "2                                                                                                                                                                                                                                                                                               [body, sleeves, girls, marisota, fantastic companies, jenni murray, 5, stylish, daring, marisota duo anna scholz beige plus, 59, control, 42 simplybecouk, clulow, wearing, jacket 40, ann harvey, necklines, don't forget accessories, broken, fantastic, 48 monsoon, 75, highlight, makeup, fashion, mean, 899, 24, impossible, earrings 650, dorothy perkins, fitting, fashionforward, range, british women, 1950, fittings, murray, hips, 650, footwear, evans sandals, 30, asoscom, eve, lightweight, changing, leggings rut, nina, plus-size, plus size, shoes, size fashion, lighter, 3950, debenhams, david clulow, clothes, look, collapsing, daisy, excellent, sunglasses, dejected, belief, 1999 new, 125 bulatticouk, combat, essential, lumps, 120, spencer, street, spencer skirts, stores, lola rose, cardigan, finally, worry, size, 18, vivaladivacom, sleekest, good underwear, radio 4, anna scholz, 8995, trousers, accessories, marks, 123 miu, asos, layering, monsoon, camel, shapeless, necklace, 28 indigo collection, curvier, ...]   \n",
       "3                                                                                                                                                                                                                                                                                                                                    [accumulates, quarter, snouts, nuclear, compensation, grandchildren nuclear, calculated, forests, cesium, bagged, immediate, amount, snuffle, freiburg, unsafe, environment ministry, affected, occasionally, similarly affected, hunters, applied ecology, unacceptable, typically conservative, roughly, increase, environment, experience, wild boars, possibility, recommended, becquerels, germany's office, cancers, soviet union, registers dozens, france's institute of radiation protection, managing director, contamination, radioactivity, theradioactivity, plant, austria, contaminated, austria authorities, mushrooms, nuclear safety, extraordinarily, urged, radiation protection, destroyed, registered, chernobyl, consume, federal, institute, hunting association, germany, consumption, normal, assume, german, radiation, meat, milk spinach cabbage, precaution, problem, measurement, altitude, consequences, susceptible, health, twothirds, exposure, animals, radioactive, limit, hunting]   \n",
       "4  [health sciences, highfunctioning linda balog, extracurricular pursuits, higher, highly programmed, mata's, positive, levels, 1354, community, competition, organized, percent, evermounting, study, overwhelmed, viewpoints, affluent families mata, sports, adolescents, scheduled, hours, ages, twenge, busy, brockport, kindergarten, affluent, measurements compared, percent and, thursday, music lessons, teens, presented, home, srcd, factors, experts debate, jean twenge author, generation, parents, extracurricular involvement, andrea mata, attained, extracurricular pursuit, symposium, child development, research, associate, adaptive, state university whose recent study, forced, extracurricular, impressivelooking, child and, management, surrogate, psychology, sports practices, keeping, tipping point, san diego state university, overscheduled, mata, involved, teens claim, highly involved children, teaching, school, adolescent, level averaged, measurements, executive, structured, research presented, delinquency, aggression, lessinvolved children, dividing, andrea, activities, doctoral, preliminary, american kids always, some kids overscheduled, average, decade, school grades, children, reaching, university, said parents worry about, examine, kids, presentation thursday, srcd symposium, new york]   \n",
       "5                                                                                                                                                                                                                                                                                                                                                                                                                                                                                                                                                                                                                                                                                                                                                               [day, argue, fielded, calhoun, supposed, games, four, kentuckyconnecticut, tongueincheek, proud, program, accomplished, chowder, great coaches, semifinal, basketball, players, coaxed, passed, ncaa, firmly entrenched, running, involving, trouble, scrubbed, dispute, muscle, teams, calipari, turnaround, neighboring, lightheartedly reprised, dealing, clear, unexpected, apology, guided, sidelines, affected, enmity, question, young, huskies, stage, decade, coaches, latest, tournament, began during, evidence, struggling, regional, share, generational standpoint, complaints]   \n",
       "6                                                                                                                                                                                                                                                                                                                                                                                                                                                                                                                                                                                                                                                                                                                                                                                                                                                                                                               [released, ebay, numbers, official, four, most devices, coming, united states, market, wait time, russia, resold, original, surprise number, ipad 2, tablet, percent, weeklater edition, sales, edition, period, radio shack tomorrow, united, international, friday, snapped, tablets, shack, figures, glimpse, reveal, ipad, cnet, than, overseas, much higher rate, apple, canada hong kong japan, two, the united states, united kingdom]   \n",
       "\n",
       "                                                                                                                                                                                                                                                                                                                                                                                                                                                                                                                                                                                                                                                                                                                                                                                                                                                                                                                                                                                                                                                                                                                                                                                                                                                                                                                                                                                                                                                                                                                                                                                                                                                                                                                                                                                                                                                                                                                                                                                                                                                                                                                                                                                                                                                                                                                                                              rake_keywords  \\\n",
       "0                                                                                                                                                                                                                                                                                                                                                                                                                                                                                                                                                                                                                                                                                                                                                                                                                                                                                                                                                                                                                                                                                                                                                                                                                                                                                                                                                                                                                                                                                      [south american concert tour lopilato, twitter lopilato sent messages throughout, traditional pop vocal album, tennis player juan monaco, mansion outside buenos aires, downtown buenos aires, lilac chiffon dress, silver high heels, sharp gray suit, red rose petals, young woman shouted, grammy last month, guests next month, canada los angeles, argentine sweetheart posed, fans threw rice, civil wedding ceremony, lopilato tossed, met lopilato, civil ceremony, argentine sitcoms, another wedding, civil registry, full ceremony, purple orchids, michael buble, pirate soul, couple plan, several years, romantically involved, day thanking, crazy love, buble wore, fans, wore, love, thursday, singer, mob, tying, knot, leaned, smooch, bouquet, crowd, one, name, model, children, vancouver, april, homes, followers, facebook, family, media, beautiful, wrote]   \n",
       "1                                                                                                                                                                                                                                                                                                                                                                                                                                                                                                                                                                                                                                                                                                                                                                                                                                                                                                                                                                                    [charges judge simone luerti ruled, world largest fashion brands beloved, glitzy party dresses alongside, weathered three years ago, designers dolce brother alfonso, italian designers domenico dolce, court italian fashion, group two brands, avoiding italian taxes, milanese fashion notion, alleged tax dodge, exalting gang rape, first controversy dolce, milan judge rules, powerful design duo, gabbana contemptuously dismissed, dolce gabbana created, giorgio armani accused, milanese designers, alongside ads, scandal dolce, charge dolce, milan threw, enough evidence, support accusations, preliminary hearing, built one, senior members, reported allegation, given control, main label, younger line, near brush, superstar partnership, instantly recognisable, sell suiting, men looked, quilted trousers, stefano gabbana, face trial, stand trial, brand success, fraud case, judge, dolce, three, design, gabbana, trial, case, accused, fraud, brand, thrown, longer, worry, wear, told, pair, celebrities, madonna, kylie, around, part, inquiry, reports, company, failed, declare, revenues, denied, take, closed, file, people, investigation, well, luxembourg, g, unlikely, sales, clothes, affected, stores, countries, masterminded, central, based, ability, makeup, came, fire, advertisement, showed, woman, held, ground, man, couple, copied]   \n",
       "2                                                                                                                                                                                                                                                                                                                                                                                                         [radio presenter jenni murray admitted, combats simply layer longer pieces, stretch bangles use long necklaces, side one diagonal ruching across, big bold pieces daisy eve, evans sandals new look enlarge, plus size fashion size clothes, badly lit dressing rooms, marks spencer cardigan monsoon shoes, leggings rut harem pants, dresses avoid cap sleeves, hides larger hips cape, size nine good underwear, multipack daisy eve, sit smoothly across, marks spencer skirts, debenhams new look, playful cape like, balancing effect dresses, evans shoes enlarge, poorly fitting pair, paper last week, means frumpy brave, countless online stores, even trendy boutique, label asos curve, season catwalk featured, something subtler like, suits everyone break, daring pattern like, widest point necklines, three width fittings, stocks gok wan, number one rule, four british women, living room simply, large bold prints, disguise problem areas, smoothest sleekest shape, mean every woman, lighter shift dress, black dress star, bumps tall girls, fitted trousers like, fenwick earrings part, forget accessories go, sizes lola rose, top half short, stripes work whatever, body shoes evans, wear stripes capes, marks spencer, side sleeves, find clothes, fashion stylist, use colour, look good, alone one, dark cardigan, thick stripes, look stylish, changing room, curvier women, disguise lumps, fantastic shape, big bust, good selection, large bras, dress size, ever tried, dejected heap, almost impossible, hiding away, shapeless sacks, dressed celebrities, fantastic companies, high street, finally woken, crawl away, course demand, ca face, ann harvey, face put, darkest colour, heaviest area, slim panel, julien macdonald, layering team, darker trousers, nifty way, slim legs, lightweight parka, thin enough, big bum, moment thanks, mad men, lovely neckline, helps slim, get away, basics trousers, ...]   \n",
       "3  [adult normal annual radiation intake, consumption either germany experience shows, bavaria state hunting association thousands, occasionally eating contaminated boar meat, anything beyond becquerels per kilogram, government radiation protection office says, legal radioactivity limit reddemann said, legal cesium limit would amount, still soil contamination though levels, slowly recede said reddemann, tissue often registers dozens, precaution european officials insist, contamination wo go away, past months hagbeck said, german would normally consume, forests nearly miles kilometers, going away anytime soon, worse nuclear power around, grandchildren nuclear power around, cesium cesium also accumulates, radiation protection normal meat, bavaria hunting association, mushrooms tested seven times, contaminated boar meat, becquerel per kilogram, example would amount, legal cesium limit, radiation government compensation, becquerels per year, said christian kueppers, amount ofradioactive within, soviet union carried, could await japan, fukushima plant get, milk spinach cabbage, germany federal office, radiation across europe, altitude radiation taken, german boars roam, roughly years theradioactivity, coming years cesium, food eating grams, chernobyl nuclear disaster, radioactive cesium remain, find unsafe levels, studied chernobyl could, hunters whose quarry, wild boars bagged, wild boars killed, cancers still researchers, legal limit, austria authorities say, chernobyl radioactive boars, radiation protection, germany office, average contamination, agency said, recommended limit, high levels, times beyond, unlikely amount, nuclear safety, leaked nearly, radiation expert, radiation given, much radiation, long radioactivity, wild game, next years, radioactive boars, germany institute, time soon, forest soil, soil along, food however, radioactive enough, still feel, certainly still, chernobyl yet, chernobyl fallout, makes boars, boars hunted, quarter century, pigs dine, applied ecology, slightly decrease, really sad, recommended according, dropped significantly, surrounding regions, typically conservative, setting limits, flight according, five times, mushrooms deer, affected regions, similarly affected, dairy products, france institute, normal, ...]   \n",
       "4                                                                                                                                                                                                                                                                                                                                                                                                                                                          [linda balog former executive director, adolescent stress sometimes parents live, least one extracurricular pursuit spending, endeavors mata study followed children, fifth grade highly involved children, problem twenge said parents worry, adolescent stress management institute, nation top colleges compels, fill every spare hour, decade said andrea mata, affluent families mata said, positive way mata said, activities jean twenge author, nine hours per week, attained higher education levels, high school said balog, hours per week, brockport said parents, tipping point detrimental, indicated overscheduling rose, academic measurements compared, adolescents become overscheduled, structured activities according, structured experts note, physical health remains, highly involved kids, highly involved children, hot topic right, kids really overscheduled, percent however devote, mata said, twenge said, structured activities, high levels, highly adaptive, extracurricular involvement, higher grades, extracurricular pursuits, overscheduled children, aggression levels, lower levels, health sciences, school grades, kids forced, american children, sports practices, music lessons, scientists radar, doctoral student, presentation thursday, montreal run, teens claim, take part, book generation, certain types, age dividing, groups based, minutes weekly, delinquency among, state university, new york, early ages, surrogate self, considered preliminary, busy reaching, average experience, feel overwhelmed, organized sports, associate professor, child development, research presented, said, least, srcd symposium, parents, worry, involved, school, kids, children, topic, busy, symposium, percent, average, srcd, professor, feel, organized, research, child, plenty, keep, whether, actually, mental, debate, subject, scheduled, society, ...]   \n",
       "5                                                                                                                                                                                                                                                                                                                                                                                                                                                                                                                                                                                                                                                                                                                                                                                         [first questions calipari fielded friday, former unlv coach jerry tarkanian, claim new england calhoun said, phone number firmly entrenched, cringeworthy dealing calipari leads, neighboring states one trying, year final four nobody, first final four, latest evidence lies, final four matchup, second semifinal saturday, make unexpected trips, without apology though, best boston accent, could never say, ncaa tournament nobody, good kentucky bourbon, clam chowder really, schools suffered calipari, calhoun lightheartedly reprised, spent four years, pittsburgh native trying, ncaa speed dial, success often produces, young struggling teams, game biggest stage, things calipari said, three years ago, ncaa problems involving, new england, final four, new levels, teams one, year later, good leaders, three times, decade ago, john really, john calipari, jim calhoun, ncaa probes, college basketball, question slid, another question, generational standpoint, true friendship, hahvahd yahd, took umbrage, take umbrage, wildcats coach, great coaches, coaches coaxed, saints either, elevate programs, fair share, respect everything, third party, two games, lead memphis, massachusetts back, cal began, umass days, jerry, said, players played, calipari, calhoun, years, coach, trying, ncaa, teams, success, problems, things, game, coaches, share, programs, everything, players, wildcats, third, played, back, umass, memphis, games, either, cal, dispute, guided, argue, men, sidelines, trouble, run, microcosm, right, wrong, ...]   \n",
       "6                                                                                                                                                                                                                                                                                                                                                                                                                                                                                                                                                                                                                                                                                                                                                                                                                                                                                                                                                                                                                                                                                                                                                                                                                                                                                                                                                                                                                                                                                                                                                                                                                                                                                                                                                                                     [radio shack tomorrow ipad review, edition ipad shipping wait time, ebay releases ipad sales apple, resales overseas russia snapped, canada hong kong japan, much higher rate, official sales numbers, first ipad according, first two weeks, united states compared, ipad sales, united states, ipad tablets, original ipad, ebay released, four weeks, international launches, cnet noted, surprise number, market followed, figures percent, sales, ipad, ebay, figures, percent, yet, reveal, friday, got, glimpse, tablet, selling, sold, period, resold, comes, devices, three]   \n",
       "\n",
       "                                                                                                                                                                                                                                                                                                                                                                                                                                                                                  textrank_keywords  \\\n",
       "0                                                                                                                                                                                                                                                                                                                                                         [lopilato, argentine, buble weds tv star, concert, buenos, pop, actress, ap, wedding, high, threw, chiffon, woman, rose, los, gray, juan]   \n",
       "1                                                                                                                                                                                                                                                                                                                     [dolce, design, brands, brand, branded, italian designers, fashion, gabbana, judge, trial, gang, tax, taxes, accusations, accused, armani, alongside, party dresses, perfume]   \n",
       "2  [dressed, dress, dresses, dressing rooms, look, trousers, shoes, shoe, evans, size, sizes, necklace, necklaces, enlarge, spencer, daisy, fitting, fitted, fittings, colour, colours, striped, slim, slimming, room, cape like, wear stripes capes, bold, hips, women, online, frumpy, gok, tall, catwalk, jacket, jackets, new, long, wearing, monsoon, ring, rings, lola, model nina bust, good, excellent range, neckline, point necklines, layering, layer, anna scholz, big, use, presenter]   \n",
       "3                                                                                                               [radiation, radioactive boars, said, nuclear, germany, radioactivity, eating contaminated boar, normal, normally, contamination, years, limit, limits, eat, chernobyl, year register, cesium, away, hunting, hunted, health, levels, says, say, nearly, environment, office, reddemann, spinach, union, agency, agencies, japan, registers, registered, affected regions, european]   \n",
       "4                                                                                                                                                               [said, mata, leveled, high levels, highly, activities, overscheduling, activity level averaged, health, kids overscheduled experts, twenge, grades, grade, children, involved, involvement, state, point, age, ages, measurements, sports, topic, parents, thursday, average, stressed, stress management, study, higher, american]   \n",
       "5                                                                                                                                                                                                                                                                                                              [calipari, coaches, coaching, ncaa, coach jerry, calhoun, year, new, years ago, evidence, unexpected, boston, native, semifinal, struggling, biggest, number firmly, kentucky, good]   \n",
       "6                                                                                                                                                                                                                                                                                                                                                                                                                                           [ipad sales, hong kong, overseas russia, states, shack]   \n",
       "\n",
       "                                                                                                                                                                                                                                                                                                                                                                                                                                                                                                                                                                                                                                                                                                                                                                                                                                                                                                                                                                                                                                                                                                                                                                                                                                                                                           tfidf_keywords  \\\n",
       "0                                                                                                                                                                                                                                                                                                                                                                                                                                                                                                                                                                                                                                         [lopilato, buble, buenos, buenos aires, aires, argentine, michael buble, michael, luisana lopilato, actress, fans, tv, luisana, ceremony, civil, pop, star, tv actress, tv actress luisana, actress luisana, actress luisana lopilato, love, lopilato civil, argentina, wedding, canadian, canadian pop, canadian pop star, luisana lopilato civil, wore, buenos aires argentina, aires argentina, married, pop star michael, pop star, star michael, concert, star michael buble, argentine tv actress, argentine tv, ap, singer, month, thursday, made name model, traditional, traditional pop, traditional pop vocal, silver high, homes canada los, posed]   \n",
       "1                                                                                                                                                                                                                                                                                                      [dolce, gabbana, dolce gabbana, accused, judge, company, designers, trial, italian, fashion, milan, fraud, brands, milanese, design, enough evidence, brand, case, alongside, evidence, enough, three, scandal dolce, created, court italian fashion, court italian, court, copied, scandal, countries masterminded instantly, scandal dolce gabbana, countries masterminded, copied design quilted, couple copied design, countries, couple copied, controversy dolce gabbana, copied design, ability, controversy dolce, senior members, showed, company accused, company accused denied, company failed, company failed declare, company luxembourg, company luxembourg given, senior members company, senior, controversy, sell suiting glitzy, sell suiting, sell, contemptuously, contemptuously dismissed, control group, created company luxembourg, control group two, created company, ruled enough evidence, sales brand clothes, sales brand, revenues designers, revenues, dismissed]   \n",
       "2                                                                                                                                                                                                                                                                                                 [evans, size, look, shoes, hips, enlarge, dress, daisy eve, daisy eve evans, marks, marks spencer, spencer, eve evans, daisy, wear, trousers, eve, big, new look, like, top, good, lola, range, print, lola rose, slim, collection, necklace, selection, cardigan, monsoon, simply, stripes, new, body, away, one, part, model nina, sleeves, evans shoes, evans shoes enlarge, pieces, scholz, women, disguise, flattering, anna scholz, excellent, work, curve, miu, jersey, nina, half, bold, wearing, multipack daisy eve, white, multipack daisy, multipack, front, size marks, thighs, size marks spencer, part multipack daisy, good selection, perkins, street, sizes, shoes enlarge, bangles, dorothy, dorothy perkins, plus, eye, cape, anna, part multipack, collection marks, use, debenhams, jacket, great range, bum, ring, room, large, earrings, earrings part, earrings part multipack, high street, hips thighs, volume, shape, leggings, eve evans shoes, asos curve, zip side, ...]   \n",
       "3                                                                                                                                                                                                                                                       [radiation, boars, cesium, chernobyl, germany, limit, mushrooms, said, legal, radioactive, nuclear, still, times, soil, times legal, wild, radioactivity, amount, meat, radiation protection, protection, reddemann, normal, eating, legal cesium, office, times legal cesium, becquerels, contamination, wild boars, cesium limit, legal cesium limit, around, levels, away, would, per, nuclear power, hagbeck, hagbeck said, recommended, radiation across, association, radiation across europe, enough people, nuclear disaster soviet, boars mushrooms, nuclear disaster, france, enough people urged, radiation expert, beyond, per kilogram, around world, expert, exposure, bavaria, radioactive boars, cloud radiation across, cloud radiation, cloud, government, thousands, agency, german, office radiation protection, europe animals radioactive, europe animals, europe, office radiation, fukushima plant, fukushima, nuclear power around, boars quarter century, boars quarter, chernobyl nuclear disaster, chernobyl nuclear]   \n",
       "4  [children, said, parents, mata, highly, kids, overscheduled, involved, extracurricular, per week, highly involved, structured, child, twenge, research, mata said, state university, activities, university, levels, percent, think, state, school, week, per, professor, debate, minutes, twenge said, busy, study, balog, stress, child adolescent stress, child adolescent, adolescent, adolescent stress, structured activities, hours, said parents, highly involved children, hours per, hours per week, experts, organized, sports, least, involved children, per week structured, srcd, parents worry, symposium, week structured activities, percent percent, week structured, grades, topic, health, higher, american, thursday, whether, average, feel, worry, high, certain types, followed children birth, sort surrogate, mothers attained, sort, society research, sometimes parents live, sort surrogate self, five nine, much positive way, five nine hours, mothers attained higher, sometimes parents, nation top, followed children, former executive, former executive director, sometimes, forced, nation, society, forced organized, forced organized sports, music, nation top colleges, certain, much positive, society research child, music lessons, certain types parents]   \n",
       "5                                                                                                                                                                                                                                                                                                                                                                                                                                                                                                                                                                                                                                                                                                                                                                               [calipari, ncaa, final, calhoun, final four, four, trying, coach, john, teams, coaches, game, first, said, new, umass, players, jerry, first final four, first final, john calipari, memphis, share, cal, programs, question, umbrage, new england, things, played, third, england, games, wildcats, nobody, years, ago, success, problems, year, everything, know, back, good, lot, either, really, three, one, complaints raised decade, suffered, take umbrage, take umbrage lot, success teams one, said coach spent]   \n",
       "6                                                                                                                                                                                                                                                                                                                                                                                                                                                                                                                                                                                                                                                                                                                          [ipad, sales, ebay, weeks, united, first, united states, first two, first two weeks, tablet, two weeks, figures, ipad sales, states, percent, two, ipad shipping wait, ipad shipping, ipad sales united, ipad tablets, ipad tablets sold, percent original, percent ipad, ipad sales apple, official, wait time three, wait, ipad review edition, ipad review, ipad resold united, ipad resold, ipad international launches, ipad international, ipad friday got, ipad friday, ipad coming radio, ipad coming, ipad comes resales, ipad comes, ipad according ebay, wait time]   \n",
       "\n",
       "                                                                                                                                                                                                                                                                                                                                                                                                                                                                                                                                                                                                                                                                                                                                                                                                                                                                                                                                                                                                                                                                                     rake_keywords_filtered  \\\n",
       "0                                                                                                                                                                                                                                                                                                                                                                                                                                                                                                                                                                                                                                                                                                    [lilac chiffon dress, silver high heels, met lopilato, civil ceremony, argentine sitcoms, civil registry, full ceremony, purple orchids, michael buble, pirate soul, couple plan, several years, crazy love, buble wore, fans, wore, love, thursday, singer, mob, knot, leaned, smooch, bouquet, crowd, name, model, children, vancouver, april, homes, followers, facebook, family, media, beautiful]   \n",
       "1                                                                                                                                                                                                                                                                                                                                                                                                  [milanese designers, scandal dolce, charge dolce, enough evidence, support accusations, preliminary hearing, senior members, reported allegation, given control, main label, superstar partnership, quilted trousers, stefano gabbana, face trial, stand trial, brand success, fraud case, judge, dolce, design, gabbana, trial, case, accused, fraud, brand, thrown, longer, worry, wear, told, pair, celebrities, madonna, kylie, part, inquiry, reports, company, declare, revenues, file, people, investigation, luxembourg, g, unlikely, sales, clothes, affected, stores, countries, masterminded, central, based, ability, makeup, fire, advertisement, woman, held, ground, man, couple, copied]   \n",
       "2                                                [label asos curve, side sleeves, find clothes, fashion stylist, dark cardigan, thick stripes, disguise lumps, fantastic shape, big bust, good selection, large bras, dress size, dejected heap, shapeless sacks, fantastic companies, high street, course demand, ann harvey, slim panel, julien macdonald, darker trousers, nifty way, slim legs, lightweight parka, big bum, moment thanks, mad men, basics trousers, strappy tops, jersey camisole, excellent range, great range, boot styles, calf widths, amazing selection, excellent shapewear, katie reedman, size jeans, monsoon, bangles, shoes, evans, cardigan, look, big, leggings, size, sizes, work, trousers, girls, prints, part, dress, body, top, hips, jeans, bum, smooth, volume, zip, front, wear, tug, floor, beautiful, solution, shapes, discovered, internet, fact, want, hide, ditch, belief, noticed, plenty, chains, tyranny, peruse, comfort, best, launched, pick, offer, worn, create, centre, outfit, done, camel, broken, try, fun, lot, print, reason, left, pull, ...]   \n",
       "3  [radiation government compensation, fukushima plant get, milk spinach cabbage, legal limit, radiation protection, germany office, average contamination, recommended limit, high levels, unlikely amount, nuclear safety, radiation expert, much radiation, long radioactivity, wild game, next years, radioactive boars, germany institute, chernobyl fallout, quarter century, pigs dine, applied ecology, mushrooms deer, affected regions, dairy products, france institute, normal, meat, consumption, thousands, cesium, becquerels, radiation, radioactivity, germany, soil, chernobyl, boars, cancers, hunters, austria, authorities, times, mushrooms, affected, time, france, products, legacy, cloud, animals, people, eat, berlin, look, fit, problems, world, consequences, freiburg, build, body, thought, risk, various, increase, linked, susceptible, snuffle, snouts, feed, kinds, mushroom, tend, problem, common, checked, destroyed, throw, calculated, measurement, plants, percent, registered, rare, traces, banned, sale, pose, exposure, pounds, possibility, issue, children]   \n",
       "4         [adolescent stress management institute, highly involved kids, highly involved children, structured activities, high levels, extracurricular involvement, extracurricular pursuits, overscheduled children, aggression levels, health sciences, school grades, american children, sports practices, music lessons, doctoral student, presentation thursday, teens claim, book generation, certain types, state university, new york, early ages, surrogate self, average experience, associate professor, child development, least, srcd symposium, parents, worry, involved, school, kids, children, topic, busy, symposium, percent, average, srcd, professor, feel, organized, research, child, plenty, mental, debate, subject, scheduled, society, think, mix, viewpoints, lot, needed, examine, happens, factors, affected, psychology, period, leveled, mean, competition, admission, birth, home, increased, likely, girls, mothers, group, behavioral, much, ask, stressed, burned, opt, play, course, sort, err, side, backing, bit, opposed, everything, meetings, published, journal]   \n",
       "5                                                                                                                                                       [new england, new levels, good leaders, john calipari, jim calhoun, ncaa probes, college basketball, generational standpoint, true friendship, hahvahd yahd, took umbrage, great coaches, elevate programs, fair share, respect everything, third party, lead memphis, umass days, jerry, calipari, calhoun, years, coach, ncaa, teams, success, problems, things, game, coaches, share, programs, everything, players, wildcats, third, played, umass, memphis, games, cal, dispute, guided, argue, men, sidelines, trouble, microcosm, right, wrong, road, huskies, turnaround, fourth, eve, histories, topic, version, lot, day, kids, think, means, hate, talk, houston, regional, school, program, recruitment, scrubbed, led, feel, deal, nba, stints, supposed, proud, accomplished, found, fault, top, protect, turf, carve, complaints, raised, muscle, way, made, clear, enmity, passed, fact, lack, counterpart, affected, pahked, caah]   \n",
       "6                                                                                                                                                                                                                                                                                                                                                                                                                                                                                                                                                                                                                                                                                                                                                                                                                                                                                   [ipad sales, united states, ipad tablets, original ipad, international launches, surprise number, figures percent, sales, ipad, ebay, figures, percent, reveal, friday, glimpse, tablet, sold, period, resold, devices]   \n",
       "\n",
       "                                                                                                                                                                                                                                                                                                                                                                              textrank_keywords_filtered  \\\n",
       "0                                                                                                                                                                                                                                                                                        [lopilato, argentine, concert, buenos, pop, actress, ap, wedding, high, threw, chiffon, woman, los, gray, juan]   \n",
       "1                                                                                                                                                                                                                                     [dolce, design, brands, brand, branded, italian designers, fashion, gabbana, judge, trial, gang, tax, taxes, accusations, accused, armani, party dresses, perfume]   \n",
       "2  [dressed, dress, dresses, look, trousers, shoes, shoe, evans, size, sizes, necklace, necklaces, enlarge, spencer, daisy, fitting, fitted, fittings, colour, colours, slim, room, bold, hips, women, online, frumpy, gok, tall, catwalk, jacket, jackets, new, monsoon, ring, rings, lola, model nina bust, good, excellent range, neckline, point necklines, layer, anna scholz, big, use, presenter]   \n",
       "3                                                                                                [radiation, radioactive boars, nuclear, germany, radioactivity, normal, contamination, years, limit, limits, eat, chernobyl, year register, cesium, hunted, health, levels, environment, office, reddemann, spinach, union, agency, agencies, japan, registers, registered, affected regions, european]   \n",
       "4                                                                                                                                                               [mata, leveled, high levels, activities, health, twenge, grades, grade, children, involved, involvement, state, point, age, ages, measurements, sports, topic, parents, thursday, average, stressed, stress management, study, american]   \n",
       "5                                                                                                                                                                                                                                                                   [calipari, coaches, ncaa, coach jerry, calhoun, year, new, evidence, unexpected, boston, native, semifinal, biggest, kentucky, good]   \n",
       "6                                                                                                                                                                                                                                                                                                                                                [ipad sales, hong kong, overseas russia, states, shack]   \n",
       "\n",
       "                                                                                                                                                                                                                                                                                                                                                                                                                                                                                                                                                                                                                                                                                                                                                                                                                                                                            tfidf_keywords_filtered  \\\n",
       "0                                                                                                                                                                                                                                                                                                                                                                                                                                    [lopilato, buble, buenos, buenos aires, aires, argentine, michael buble, michael, luisana lopilato, actress, fans, tv, luisana, ceremony, civil, pop, star, tv actress, tv actress luisana, actress luisana, actress luisana lopilato, love, argentina, wedding, canadian, canadian pop, wore, married, pop star michael, pop star, star michael, concert, star michael buble, argentine tv, ap, singer, month, thursday, traditional, traditional pop, posed]   \n",
       "1                                                                                                                                                                                                                                                                                                                                                                                                         [dolce, gabbana, dolce gabbana, accused, judge, company, designers, trial, italian, fashion, milan, fraud, brands, milanese, design, enough evidence, brand, case, evidence, scandal dolce, created, court, copied, scandal, scandal dolce gabbana, countries, controversy dolce gabbana, copied design, ability, controversy dolce, senior members, company luxembourg, senior, controversy, sell, control group, created company, sales brand, revenues designers, revenues, dismissed]   \n",
       "2  [evans, size, look, shoes, hips, enlarge, dress, daisy eve, marks, spencer, eve evans, daisy, wear, trousers, eve, big, new look, top, good, lola, range, print, slim, collection, necklace, selection, cardigan, monsoon, stripes, new, body, part, model nina, sleeves, evans shoes, pieces, scholz, women, disguise, anna scholz, excellent, work, curve, miu, jersey, nina, half, bold, white, multipack daisy, multipack, front, size marks, thighs, part multipack daisy, good selection, perkins, street, sizes, bangles, dorothy, dorothy perkins, eye, cape, anna, part multipack, collection marks, use, debenhams, jacket, great range, bum, ring, room, large, earrings, earrings part, high street, hips thighs, volume, shape, leggings, asos curve, zip side, asos, colour, waist, zip, fantastic, prints, smooth, bust, parka, jeans, great, dresses, clothes, model, duo, side]   \n",
       "3                                                                                                                                                                                                                                   [radiation, boars, cesium, chernobyl, germany, limit, mushrooms, legal, radioactive, nuclear, times, soil, times legal, wild, radioactivity, amount, meat, radiation protection, protection, reddemann, normal, legal cesium, office, becquerels, contamination, wild boars, cesium limit, levels, nuclear power, hagbeck, recommended, association, enough people, boars mushrooms, nuclear disaster, france, radiation expert, expert, exposure, bavaria, radioactive boars, cloud radiation, cloud, government, thousands, agency, german, office radiation protection, europe animals, europe, office radiation, fukushima plant, fukushima, boars quarter]   \n",
       "4                                                                                                                                                             [children, parents, mata, kids, overscheduled, involved, extracurricular, structured, child, twenge, research, state university, activities, university, levels, percent, think, state, school, week, professor, debate, minutes, busy, study, balog, stress, child adolescent stress, child adolescent, adolescent, adolescent stress, structured activities, hours, highly involved children, experts, organized, sports, least, srcd, symposium, percent percent, grades, topic, health, american, thursday, average, feel, worry, high, certain types, sort surrogate, sort, society research, sort surrogate self, nation top, former executive, forced, nation, society, music, certain, society research child, music lessons]   \n",
       "5                                                                                                                                                                                                                                                                                                                                                                                                                                                                                                                                                                                                     [calipari, ncaa, final, calhoun, coach, john, teams, coaches, game, new, umass, players, jerry, john calipari, memphis, share, cal, programs, question, umbrage, new england, things, played, third, england, games, wildcats, nobody, years, success, problems, year, everything, good, lot]   \n",
       "6                                                                                                                                                                                                                                                                                                                                                                                                                                                                                                                                                                                                                         [ipad, sales, ebay, weeks, united, united states, tablet, figures, ipad sales, states, percent, ipad shipping wait, ipad shipping, ipad tablets, percent ipad, official, wait, ipad review edition, ipad review, ipad resold, ipad international, ipad friday, wait time]   \n",
       "\n",
       "                                                                                                                                                                                                                                                                                                                                                                                                                                                                                                                                                                                                                                                                                                                                                                                                                                                                                                                                                                        gold_filtered  \\\n",
       "0                                                                                                                                                                                                                                                                                                                                                                                                                                                                                                                    [ceremony, mansion, south american, luisana lopilato, north, michael, family, canadian, argentine, grammy, twitter, registry, pop star, model, wedding ceremony, canadian pop, month, tv actress, buenos aires, fans, married argentine, wedding, bouquet, messages, media, vocal album, woman, argentine sweetheart, vocal, traditional, downtown, facebook, high, civil registry, met, michael buble, crazy love, kisses, beautiful, chiffon dress, vancouver]   \n",
       "1                                                                                                                                                                                                                                                                                                                                                                                 [couple, tax dodge, fraud, supersexy ads, dolce, control, company, welltailored suiting, madonna, masterminded, preliminary hearing, stefano gabbana, stores, milan, revenues, advertisement, fashion, designers, main label, reported allegation, trial, milanese designers, inquiry, declare 840m, dolce and gabbana, dolce's brother alfonso, powerful design, copied, support accusations, milan judge, judge simone luerti, gabbana, luxembourg, kylie, moltosexy clothes, giorgio armani, senior members, italian fashion's, celebrities, quilted trousers, judge, design, evidence, central]   \n",
       "2  [body, sleeves, girls, marisota, fantastic companies, jenni murray, stylish, control, 42 simplybecouk, clulow, jacket 40, ann harvey, necklines, broken, fantastic, 48 monsoon, highlight, makeup, fashion, mean, impossible, dorothy perkins, fitting, fashionforward, range, british women, fittings, murray, hips, footwear, evans sandals, asoscom, eve, lightweight, leggings rut, nina, plus-size, plus size, shoes, size fashion, lighter, debenhams, david clulow, clothes, look, daisy, excellent, sunglasses, dejected, belief, 125 bulatticouk, combat, essential, lumps, spencer, street, spencer skirts, stores, cardigan, worry, size, vivaladivacom, sleekest, good underwear, radio 4, anna scholz, trousers, accessories, marks, 123 miu, asos, monsoon, camel, shapeless, necklace, curvier, leggings, feminine, subtler, gorgeous, summer, woman, thighs, enlarge, mad men, capes, frumpy, demand, celebrities, miu miu, evans, beautiful, heaviest, necklaces]   \n",
       "3                                                                                                                [accumulates, quarter, snouts, nuclear, compensation, grandchildren nuclear, calculated, forests, cesium, bagged, immediate, amount, snuffle, freiburg, unsafe, environment ministry, affected, hunters, applied ecology, unacceptable, increase, environment, experience, wild boars, possibility, recommended, becquerels, germany's office, cancers, soviet union, registers dozens, france's institute of radiation protection, contamination, radioactivity, theradioactivity, plant, austria, contaminated, austria authorities, mushrooms, nuclear safety, radiation protection, destroyed, registered, chernobyl, consume, federal, institute, germany, consumption, normal, german, radiation, meat, milk spinach cabbage, precaution, problem, measurement, altitude, consequences, susceptible, health, twothirds, exposure, animals, radioactive, limit]   \n",
       "4                                                                 [health sciences, extracurricular pursuits, mata's, positive, levels, community, competition, organized, percent, study, overwhelmed, viewpoints, sports, adolescents, scheduled, hours, ages, twenge, busy, brockport, affluent, thursday, music lessons, teens, presented, home, srcd, factors, experts debate, generation, parents, extracurricular involvement, andrea mata, attained, extracurricular pursuit, symposium, child development, research, associate, adaptive, forced, extracurricular, management, surrogate, psychology, sports practices, san diego state university, overscheduled, mata, involved, teens claim, highly involved children, school, adolescent, measurements, executive, structured, delinquency, aggression, andrea, activities, doctoral, preliminary, average, decade, school grades, children, university, examine, kids, presentation thursday, srcd symposium, new york]   \n",
       "5                                                                                                                                                                                                                                                                                                                                                                                                                                                                                                             [day, argue, fielded, calhoun, supposed, games, kentuckyconnecticut, tongueincheek, proud, program, accomplished, chowder, great coaches, semifinal, basketball, players, coaxed, passed, ncaa, trouble, scrubbed, dispute, muscle, teams, calipari, turnaround, clear, unexpected, apology, guided, sidelines, affected, enmity, question, young, huskies, stage, decade, coaches, latest, tournament, evidence, regional, share, generational standpoint, complaints]   \n",
       "6                                                                                                                                                                                                                                                                                                                                                                                                                                                                                                                                                                                                                                           [released, ebay, numbers, official, united states, market, wait time, russia, resold, original, surprise number, ipad 2, tablet, percent, weeklater edition, sales, edition, period, radio shack tomorrow, united, international, friday, tablets, shack, figures, glimpse, reveal, ipad, cnet, apple, the united states, united kingdom]   \n",
       "\n",
       "                                                                                                     my_keywords_filtered  \n",
       "0   [michael buble, luisana lopilato, pop star, tv actress, model, wedding, ceremony, civil registry, buenos aires, fans]  \n",
       "1                                        [dolce, gabbana, fashion, tax dodge, fraud, trial, designers, dolce and gabbana]  \n",
       "2                                                            [fashion, plus size, clothes, size, plus-size, hips, thighs]  \n",
       "3  [chernobyl, cesium, meat, becquerels, wild boars, mushrooms, contamination, radioactivity, health, germany, radiation]  \n",
       "4                                                           [kids, school, children, school, activities, extracurricular]  \n",
       "5                                                                          [coaches, ncaa, basketball, calipari, calhoun]  \n",
       "6                                                                 [apple, ipad 2, ebay, tablet, the united states, sales]  "
      ]
     },
     "execution_count": 293,
     "metadata": {},
     "output_type": "execute_result"
    }
   ],
   "source": [
    "df"
   ]
  },
  {
   "cell_type": "markdown",
   "metadata": {},
   "source": [
    "Есть ощущение, что все три метода выделяют ключевые слова лучше, чем было в изначальной разметке, данной с датасетом. Особенно хорошо это заметно, если смотреть на отфильтрованные варианты методов. В золотом стандарте, состоящем в основном из ключевых слов, размеченных не мной, встречается много странных словосочетаний, например, одиночных наречий или глаголов, или сочетаний с притяжательными местоимениями или теми же глаголами. В ключевых словах мы хотим видеть скорее существительные, одиночные или с каким-то зависимыми. Получается, несмотря на относительно низкие значения метрик, проблема не в выдаче алгоритмов, которая мне кажется разумной, а в референсных ключевых словах, заданных не мной.  \n",
    "\n",
    "Можно попробовать сравнить только со словами, которые задала я (но надо помнить, что их очень мало, потому что мне не хватило фантазии. было бы больше осмысленно выделенных слов - и результат метрик был бы наверянка выше):"
   ]
  },
  {
   "cell_type": "code",
   "execution_count": 295,
   "metadata": {},
   "outputs": [
    {
     "data": {
      "text/html": [
       "<style  type=\"text/css\" >\n",
       "#T_c9275_row0_col4,#T_c9275_row1_col6,#T_c9275_row2_col6{\n",
       "            background-color:  lightgreen;\n",
       "        }</style><table id=\"T_c9275_\" ><thead>    <tr>        <th class=\"blank level0\" ></th>        <th class=\"col_heading level0 col0\" >metric</th>        <th class=\"col_heading level0 col1\" >rake_nf</th>        <th class=\"col_heading level0 col2\" >rake_f</th>        <th class=\"col_heading level0 col3\" >textrank_nf</th>        <th class=\"col_heading level0 col4\" >textrank_f</th>        <th class=\"col_heading level0 col5\" >tfidf_nf</th>        <th class=\"col_heading level0 col6\" >tfidf_f</th>    </tr></thead><tbody>\n",
       "                <tr>\n",
       "                        <th id=\"T_c9275_level0_row0\" class=\"row_heading level0 row0\" >0</th>\n",
       "                        <td id=\"T_c9275_row0_col0\" class=\"data row0 col0\" >precision</td>\n",
       "                        <td id=\"T_c9275_row0_col1\" class=\"data row0 col1\" >0.041300</td>\n",
       "                        <td id=\"T_c9275_row0_col2\" class=\"data row0 col2\" >0.072081</td>\n",
       "                        <td id=\"T_c9275_row0_col3\" class=\"data row0 col3\" >0.113853</td>\n",
       "                        <td id=\"T_c9275_row0_col4\" class=\"data row0 col4\" >0.131355</td>\n",
       "                        <td id=\"T_c9275_row0_col5\" class=\"data row0 col5\" >0.086878</td>\n",
       "                        <td id=\"T_c9275_row0_col6\" class=\"data row0 col6\" >0.127071</td>\n",
       "            </tr>\n",
       "            <tr>\n",
       "                        <th id=\"T_c9275_level0_row1\" class=\"row_heading level0 row1\" >1</th>\n",
       "                        <td id=\"T_c9275_row1_col0\" class=\"data row1 col0\" >recall</td>\n",
       "                        <td id=\"T_c9275_row1_col1\" class=\"data row1 col1\" >0.542177</td>\n",
       "                        <td id=\"T_c9275_row1_col2\" class=\"data row1 col2\" >0.550835</td>\n",
       "                        <td id=\"T_c9275_row1_col3\" class=\"data row1 col3\" >0.383673</td>\n",
       "                        <td id=\"T_c9275_row1_col4\" class=\"data row1 col4\" >0.379344</td>\n",
       "                        <td id=\"T_c9275_row1_col5\" class=\"data row1 col5\" >0.726871</td>\n",
       "                        <td id=\"T_c9275_row1_col6\" class=\"data row1 col6\" >0.737693</td>\n",
       "            </tr>\n",
       "            <tr>\n",
       "                        <th id=\"T_c9275_level0_row2\" class=\"row_heading level0 row2\" >2</th>\n",
       "                        <td id=\"T_c9275_row2_col0\" class=\"data row2 col0\" >f-score</td>\n",
       "                        <td id=\"T_c9275_row2_col1\" class=\"data row2 col1\" >0.074560</td>\n",
       "                        <td id=\"T_c9275_row2_col2\" class=\"data row2 col2\" >0.121411</td>\n",
       "                        <td id=\"T_c9275_row2_col3\" class=\"data row2 col3\" >0.171837</td>\n",
       "                        <td id=\"T_c9275_row2_col4\" class=\"data row2 col4\" >0.191543</td>\n",
       "                        <td id=\"T_c9275_row2_col5\" class=\"data row2 col5\" >0.152822</td>\n",
       "                        <td id=\"T_c9275_row2_col6\" class=\"data row2 col6\" >0.212977</td>\n",
       "            </tr>\n",
       "    </tbody></table>"
      ],
      "text/plain": [
       "<pandas.io.formats.style.Styler at 0x197e8cf1160>"
      ]
     },
     "execution_count": 295,
     "metadata": {},
     "output_type": "execute_result"
    }
   ],
   "source": [
    "another_metrics_df = pd.DataFrame({'metric': ['precision', 'recall', 'f-score'],\n",
    "                           'rake_nf': metrics(df.my_keywords, df.rake_keywords),\n",
    "                           'rake_f': metrics(df.my_keywords_filtered, df.rake_keywords_filtered),\n",
    "                           'textrank_nf': metrics(df.my_keywords, df.textrank_keywords),\n",
    "                           'textrank_f': metrics(df.my_keywords_filtered, df.textrank_keywords_filtered),\n",
    "                           'tfidf_nf': metrics(df.my_keywords, df.tfidf_keywords),\n",
    "                           'tfidf_f': metrics(df.my_keywords_filtered, df.tfidf_keywords_filtered)})\n",
    "another_metrics_df.set_index('metric')\n",
    "another_metrics_df.style.highlight_max(color = 'lightgreen', axis = 1)"
   ]
  },
  {
   "cell_type": "markdown",
   "metadata": {},
   "source": [
    "С таким золотым стандартом гораздо выше стала полнота, у tf-idf она достигла максимальных 0.74 балла. Общая ф-мера тоже максимальная для tf-idf, а точность - для textrank с фильтрами.  \n",
    "Но в целом точность ощутимо упала для всех методов. Я связываю это с тем, что все алгоритмы предсказывали много ключевых слов, намного больше, чем в этом золотом стандарте. Логично, что чем больше слов называть, чем больше раз пытаться угадать заданные слова, тем больше будет и ложнопозитивных, и ложноотрицательных ответов, соответственно, точность будет падать, а полнота - расти. Однако для распознавания слов, на мой взгляд, точность важнее, потому что мы хотим снизить число ложнопозитивных ответов: нам лучше упустить какие-то релевантные ключевые слова, чем запутать пользователя, назвав ему слова, не передающие смысл текста.    \n",
    "\n",
    "В целом получается, что проблема в этой задаче - не алгоритмы, а референсные стандарты. Единственное дополнение, которое мне видится возможным для текстов, - добавить лемматизацию к преобработке, что в английских существительных будет выражаться в основном в приведении к единственному числу. Я не стала делать этого сразу, чтобы сделать ключевые слова читаемыми и понятными для человека, чтобы, например, clothes и jeans не превратились в cloth и jean. Однако это может помочь алгоритмам лучше учитывать слова, которые встречаются в текстах и в единственном, и во множенственном числе."
   ]
  },
  {
   "cell_type": "code",
   "execution_count": null,
   "metadata": {},
   "outputs": [],
   "source": []
  }
 ],
 "metadata": {
  "kernelspec": {
   "display_name": "Python 3 (ipykernel)",
   "language": "python",
   "name": "python3"
  },
  "language_info": {
   "codemirror_mode": {
    "name": "ipython",
    "version": 3
   },
   "file_extension": ".py",
   "mimetype": "text/x-python",
   "name": "python",
   "nbconvert_exporter": "python",
   "pygments_lexer": "ipython3",
   "version": "3.7.3"
  }
 },
 "nbformat": 4,
 "nbformat_minor": 2
}
